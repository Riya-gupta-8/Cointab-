{
 "cells": [
  {
   "cell_type": "code",
   "execution_count": 1,
   "metadata": {
    "scrolled": true
   },
   "outputs": [],
   "source": [
    "import pandas as pd\n",
    "import matplotlib.pyplot as plt\n",
    "import seaborn as sns\n",
    "import numpy as np"
   ]
  },
  {
   "cell_type": "code",
   "execution_count": 2,
   "metadata": {},
   "outputs": [],
   "source": [
    "import warnings\n",
    "warnings.filterwarnings(\"ignore\")"
   ]
  },
  {
   "cell_type": "code",
   "execution_count": 3,
   "metadata": {},
   "outputs": [],
   "source": [
    "df1 = pd.read_excel(r'C:\\Users\\hp\\Downloads\\Cointab Data Analyst - Challenge\\Company X - Order Report.xlsx')\n",
    "df2 = pd.read_excel(r'C:\\Users\\hp\\Downloads\\Cointab Data Analyst - Challenge\\Company X - Pincode Zones.xlsx')\n",
    "df3 = pd.read_excel(r'C:\\Users\\hp\\Downloads\\Cointab Data Analyst - Challenge\\Company X - SKU Master.xlsx')\n",
    "df4 = pd.read_excel(r'C:\\Users\\hp\\Downloads\\Cointab Data Analyst - Challenge\\Courier Company - Invoice.xlsx')\n",
    "df5 = pd.read_excel(r'C:\\Users\\hp\\Downloads\\Cointab Data Analyst - Challenge\\Courier Company - Rates.xlsx')\n",
    "df6 = pd.read_excel(r'C:\\Users\\hp\\Downloads\\Cointab Data Analyst - Challenge\\Expected_Result.xlsx')"
   ]
  },
  {
   "cell_type": "markdown",
   "metadata": {},
   "source": [
    "## CHECK MISSING VALUES IF ANY "
   ]
  },
  {
   "cell_type": "code",
   "execution_count": 4,
   "metadata": {
    "scrolled": true
   },
   "outputs": [
    {
     "name": "stdout",
     "output_type": "stream",
     "text": [
      "ExternOrderNo    0.0\n",
      "SKU              0.0\n",
      "Order Qty        0.0\n",
      "dtype: float64\n",
      "Warehouse Pincode    0.0\n",
      "Customer Pincode     0.0\n",
      "Zone                 0.0\n",
      "dtype: float64\n",
      "SKU           0.0\n",
      "Weight (g)    0.0\n",
      "dtype: float64\n"
     ]
    }
   ],
   "source": [
    "dfs = [df1,df2,df3]\n",
    "for i in dfs:\n",
    "    print(i.isnull().mean())"
   ]
  },
  {
   "cell_type": "markdown",
   "metadata": {},
   "source": [
    "## DF1"
   ]
  },
  {
   "cell_type": "code",
   "execution_count": 5,
   "metadata": {
    "scrolled": true
   },
   "outputs": [
    {
     "name": "stdout",
     "output_type": "stream",
     "text": [
      "<class 'pandas.core.frame.DataFrame'>\n",
      "RangeIndex: 400 entries, 0 to 399\n",
      "Data columns (total 3 columns):\n",
      " #   Column         Non-Null Count  Dtype  \n",
      "---  ------         --------------  -----  \n",
      " 0   ExternOrderNo  400 non-null    int64  \n",
      " 1   SKU            400 non-null    object \n",
      " 2   Order Qty      400 non-null    float64\n",
      "dtypes: float64(1), int64(1), object(1)\n",
      "memory usage: 9.5+ KB\n"
     ]
    }
   ],
   "source": [
    "df1.info()"
   ]
  },
  {
   "cell_type": "code",
   "execution_count": 6,
   "metadata": {},
   "outputs": [
    {
     "data": {
      "text/plain": [
       "124"
      ]
     },
     "execution_count": 6,
     "metadata": {},
     "output_type": "execute_result"
    }
   ],
   "source": [
    "df1['ExternOrderNo'].nunique()"
   ]
  },
  {
   "cell_type": "code",
   "execution_count": 7,
   "metadata": {},
   "outputs": [
    {
     "data": {
      "text/plain": [
       "65"
      ]
     },
     "execution_count": 7,
     "metadata": {},
     "output_type": "execute_result"
    }
   ],
   "source": [
    "df1['SKU'].nunique()"
   ]
  },
  {
   "cell_type": "code",
   "execution_count": 8,
   "metadata": {
    "scrolled": false
   },
   "outputs": [
    {
     "data": {
      "text/html": [
       "<div>\n",
       "<style scoped>\n",
       "    .dataframe tbody tr th:only-of-type {\n",
       "        vertical-align: middle;\n",
       "    }\n",
       "\n",
       "    .dataframe tbody tr th {\n",
       "        vertical-align: top;\n",
       "    }\n",
       "\n",
       "    .dataframe thead th {\n",
       "        text-align: right;\n",
       "    }\n",
       "</style>\n",
       "<table border=\"1\" class=\"dataframe\">\n",
       "  <thead>\n",
       "    <tr style=\"text-align: right;\">\n",
       "      <th></th>\n",
       "      <th>ExternOrderNo</th>\n",
       "      <th>SKU</th>\n",
       "      <th>Order Qty</th>\n",
       "    </tr>\n",
       "  </thead>\n",
       "  <tbody>\n",
       "    <tr>\n",
       "      <th>398</th>\n",
       "      <td>2001806210</td>\n",
       "      <td>8904223816214</td>\n",
       "      <td>1.0</td>\n",
       "    </tr>\n",
       "    <tr>\n",
       "      <th>399</th>\n",
       "      <td>2001806210</td>\n",
       "      <td>8904223818874</td>\n",
       "      <td>1.0</td>\n",
       "    </tr>\n",
       "  </tbody>\n",
       "</table>\n",
       "</div>"
      ],
      "text/plain": [
       "     ExternOrderNo            SKU  Order Qty\n",
       "398     2001806210  8904223816214        1.0\n",
       "399     2001806210  8904223818874        1.0"
      ]
     },
     "execution_count": 8,
     "metadata": {},
     "output_type": "execute_result"
    }
   ],
   "source": [
    "df1[df1['ExternOrderNo'] == 2001806210]"
   ]
  },
  {
   "cell_type": "code",
   "execution_count": 9,
   "metadata": {},
   "outputs": [],
   "source": [
    "x = pd.DataFrame(df1['SKU'] , dtype = \"string\")  #created a data frame x with 'SKU' of type string"
   ]
  },
  {
   "cell_type": "code",
   "execution_count": 10,
   "metadata": {
    "scrolled": false
   },
   "outputs": [],
   "source": [
    "x['Unique sku no'] = x['SKU'].str.slice(9,13)    # carrying the unique and distinct sku no"
   ]
  },
  {
   "cell_type": "code",
   "execution_count": 11,
   "metadata": {},
   "outputs": [
    {
     "data": {
      "text/plain": [
       "0    8706\n",
       "1    9093\n",
       "2    9109\n",
       "3    8430\n",
       "4    9277\n",
       "Name: Unique sku no, dtype: string"
      ]
     },
     "execution_count": 11,
     "metadata": {},
     "output_type": "execute_result"
    }
   ],
   "source": [
    "x['Unique sku no'].iloc[:5]"
   ]
  },
  {
   "cell_type": "code",
   "execution_count": 12,
   "metadata": {},
   "outputs": [],
   "source": [
    "df1['unique sku'] = x['Unique sku no']"
   ]
  },
  {
   "cell_type": "code",
   "execution_count": 13,
   "metadata": {
    "scrolled": false
   },
   "outputs": [
    {
     "data": {
      "text/html": [
       "<div>\n",
       "<style scoped>\n",
       "    .dataframe tbody tr th:only-of-type {\n",
       "        vertical-align: middle;\n",
       "    }\n",
       "\n",
       "    .dataframe tbody tr th {\n",
       "        vertical-align: top;\n",
       "    }\n",
       "\n",
       "    .dataframe thead th {\n",
       "        text-align: right;\n",
       "    }\n",
       "</style>\n",
       "<table border=\"1\" class=\"dataframe\">\n",
       "  <thead>\n",
       "    <tr style=\"text-align: right;\">\n",
       "      <th></th>\n",
       "      <th>ExternOrderNo</th>\n",
       "      <th>SKU</th>\n",
       "      <th>Order Qty</th>\n",
       "      <th>unique sku</th>\n",
       "    </tr>\n",
       "  </thead>\n",
       "  <tbody>\n",
       "    <tr>\n",
       "      <th>392</th>\n",
       "      <td>2001806232</td>\n",
       "      <td>8904223818645</td>\n",
       "      <td>6.0</td>\n",
       "      <td>8645</td>\n",
       "    </tr>\n",
       "    <tr>\n",
       "      <th>393</th>\n",
       "      <td>2001806232</td>\n",
       "      <td>8904223819147</td>\n",
       "      <td>2.0</td>\n",
       "      <td>9147</td>\n",
       "    </tr>\n",
       "  </tbody>\n",
       "</table>\n",
       "</div>"
      ],
      "text/plain": [
       "     ExternOrderNo            SKU  Order Qty unique sku\n",
       "392     2001806232  8904223818645        6.0       8645\n",
       "393     2001806232  8904223819147        2.0       9147"
      ]
     },
     "execution_count": 13,
     "metadata": {},
     "output_type": "execute_result"
    }
   ],
   "source": [
    "df1[df1['ExternOrderNo']== 2001806232]"
   ]
  },
  {
   "cell_type": "code",
   "execution_count": 14,
   "metadata": {
    "scrolled": true
   },
   "outputs": [
    {
     "data": {
      "text/html": [
       "<div>\n",
       "<style scoped>\n",
       "    .dataframe tbody tr th:only-of-type {\n",
       "        vertical-align: middle;\n",
       "    }\n",
       "\n",
       "    .dataframe tbody tr th {\n",
       "        vertical-align: top;\n",
       "    }\n",
       "\n",
       "    .dataframe thead th {\n",
       "        text-align: right;\n",
       "    }\n",
       "</style>\n",
       "<table border=\"1\" class=\"dataframe\">\n",
       "  <thead>\n",
       "    <tr style=\"text-align: right;\">\n",
       "      <th></th>\n",
       "      <th>ExternOrderNo</th>\n",
       "      <th>SKU</th>\n",
       "      <th>Order Qty</th>\n",
       "      <th>unique sku</th>\n",
       "    </tr>\n",
       "  </thead>\n",
       "  <tbody>\n",
       "  </tbody>\n",
       "</table>\n",
       "</div>"
      ],
      "text/plain": [
       "Empty DataFrame\n",
       "Columns: [ExternOrderNo, SKU, Order Qty, unique sku]\n",
       "Index: []"
      ]
     },
     "execution_count": 14,
     "metadata": {},
     "output_type": "execute_result"
    }
   ],
   "source": [
    "df1[df1['SKU']=='8904223815682']"
   ]
  },
  {
   "cell_type": "code",
   "execution_count": 15,
   "metadata": {
    "scrolled": true
   },
   "outputs": [
    {
     "data": {
      "text/html": [
       "<div>\n",
       "<style scoped>\n",
       "    .dataframe tbody tr th:only-of-type {\n",
       "        vertical-align: middle;\n",
       "    }\n",
       "\n",
       "    .dataframe tbody tr th {\n",
       "        vertical-align: top;\n",
       "    }\n",
       "\n",
       "    .dataframe thead th {\n",
       "        text-align: right;\n",
       "    }\n",
       "</style>\n",
       "<table border=\"1\" class=\"dataframe\">\n",
       "  <thead>\n",
       "    <tr style=\"text-align: right;\">\n",
       "      <th></th>\n",
       "      <th>ExternOrderNo</th>\n",
       "      <th>SKU</th>\n",
       "      <th>Order Qty</th>\n",
       "      <th>unique sku</th>\n",
       "    </tr>\n",
       "  </thead>\n",
       "  <tbody>\n",
       "    <tr>\n",
       "      <th>212</th>\n",
       "      <td>2001808675</td>\n",
       "      <td>GIFTBOX202001</td>\n",
       "      <td>1.0</td>\n",
       "      <td>2001</td>\n",
       "    </tr>\n",
       "  </tbody>\n",
       "</table>\n",
       "</div>"
      ],
      "text/plain": [
       "     ExternOrderNo            SKU  Order Qty unique sku\n",
       "212     2001808675  GIFTBOX202001        1.0       2001"
      ]
     },
     "execution_count": 15,
     "metadata": {},
     "output_type": "execute_result"
    }
   ],
   "source": [
    "df1[df1['SKU']=='GIFTBOX202001']"
   ]
  },
  {
   "cell_type": "markdown",
   "metadata": {},
   "source": [
    "## DF2"
   ]
  },
  {
   "cell_type": "code",
   "execution_count": 16,
   "metadata": {
    "scrolled": true
   },
   "outputs": [
    {
     "name": "stdout",
     "output_type": "stream",
     "text": [
      "<class 'pandas.core.frame.DataFrame'>\n",
      "RangeIndex: 124 entries, 0 to 123\n",
      "Data columns (total 3 columns):\n",
      " #   Column             Non-Null Count  Dtype \n",
      "---  ------             --------------  ----- \n",
      " 0   Warehouse Pincode  124 non-null    int64 \n",
      " 1   Customer Pincode   124 non-null    int64 \n",
      " 2   Zone               124 non-null    object\n",
      "dtypes: int64(2), object(1)\n",
      "memory usage: 3.0+ KB\n"
     ]
    }
   ],
   "source": [
    "df2.info()"
   ]
  },
  {
   "cell_type": "code",
   "execution_count": 17,
   "metadata": {},
   "outputs": [
    {
     "data": {
      "text/plain": [
       "3"
      ]
     },
     "execution_count": 17,
     "metadata": {},
     "output_type": "execute_result"
    }
   ],
   "source": [
    "df2['Zone'].nunique()"
   ]
  },
  {
   "cell_type": "code",
   "execution_count": 18,
   "metadata": {
    "scrolled": true
   },
   "outputs": [
    {
     "data": {
      "text/plain": [
       "b    79\n",
       "d    38\n",
       "e     7\n",
       "Name: Zone, dtype: int64"
      ]
     },
     "execution_count": 18,
     "metadata": {},
     "output_type": "execute_result"
    }
   ],
   "source": [
    "df2['Zone'].value_counts()"
   ]
  },
  {
   "cell_type": "code",
   "execution_count": 19,
   "metadata": {},
   "outputs": [
    {
     "data": {
      "text/plain": [
       "108"
      ]
     },
     "execution_count": 19,
     "metadata": {},
     "output_type": "execute_result"
    }
   ],
   "source": [
    "df2['Customer Pincode'].nunique()"
   ]
  },
  {
   "cell_type": "code",
   "execution_count": 20,
   "metadata": {
    "scrolled": true
   },
   "outputs": [
    {
     "data": {
      "text/plain": [
       "1"
      ]
     },
     "execution_count": 20,
     "metadata": {},
     "output_type": "execute_result"
    }
   ],
   "source": [
    "df2['Warehouse Pincode'].nunique()    # this means pickup person or location is same for all orders "
   ]
  },
  {
   "cell_type": "markdown",
   "metadata": {},
   "source": [
    "## DF3"
   ]
  },
  {
   "cell_type": "code",
   "execution_count": 21,
   "metadata": {
    "scrolled": true
   },
   "outputs": [
    {
     "name": "stdout",
     "output_type": "stream",
     "text": [
      "<class 'pandas.core.frame.DataFrame'>\n",
      "RangeIndex: 66 entries, 0 to 65\n",
      "Data columns (total 2 columns):\n",
      " #   Column      Non-Null Count  Dtype \n",
      "---  ------      --------------  ----- \n",
      " 0   SKU         66 non-null     object\n",
      " 1   Weight (g)  66 non-null     int64 \n",
      "dtypes: int64(1), object(1)\n",
      "memory usage: 1.2+ KB\n"
     ]
    }
   ],
   "source": [
    "df3.info()"
   ]
  },
  {
   "cell_type": "code",
   "execution_count": 22,
   "metadata": {
    "scrolled": true
   },
   "outputs": [
    {
     "data": {
      "text/plain": [
       "65"
      ]
     },
     "execution_count": 22,
     "metadata": {},
     "output_type": "execute_result"
    }
   ],
   "source": [
    "df3['SKU'].nunique()"
   ]
  },
  {
   "cell_type": "code",
   "execution_count": 23,
   "metadata": {
    "scrolled": true
   },
   "outputs": [
    {
     "data": {
      "text/plain": [
       "GIFTBOX202002    2\n",
       "8904223818751    1\n",
       "GIFTBOX202004    1\n",
       "8904223818683    1\n",
       "8904223815873    1\n",
       "                ..\n",
       "8904223819352    1\n",
       "8904223819321    1\n",
       "8904223818454    1\n",
       "8904223819093    1\n",
       "8904223818881    1\n",
       "Name: SKU, Length: 65, dtype: int64"
      ]
     },
     "execution_count": 23,
     "metadata": {},
     "output_type": "execute_result"
    }
   ],
   "source": [
    "df3['SKU'].value_counts()"
   ]
  },
  {
   "cell_type": "code",
   "execution_count": 24,
   "metadata": {
    "scrolled": false
   },
   "outputs": [
    {
     "data": {
      "text/plain": [
       "52    500\n",
       "56    500\n",
       "Name: Weight (g), dtype: int64"
      ]
     },
     "execution_count": 24,
     "metadata": {},
     "output_type": "execute_result"
    }
   ],
   "source": [
    "df3['Weight (g)'][df3['SKU']=='GIFTBOX202002']"
   ]
  },
  {
   "cell_type": "code",
   "execution_count": 25,
   "metadata": {},
   "outputs": [],
   "source": [
    "x = pd.DataFrame(df3['SKU'] , dtype = \"string\")   #created a data frame x with 'SKU' of type string"
   ]
  },
  {
   "cell_type": "code",
   "execution_count": 26,
   "metadata": {},
   "outputs": [],
   "source": [
    "x['Unique sku no'] = x['SKU'].str.slice(9,13)      # carrying the unique and distinct sku no"
   ]
  },
  {
   "cell_type": "code",
   "execution_count": 27,
   "metadata": {
    "scrolled": false
   },
   "outputs": [
    {
     "data": {
      "text/plain": [
       "0    5682\n",
       "1    5859\n",
       "2    5866\n",
       "3    5873\n",
       "4    6214\n",
       "5    6665\n",
       "Name: Unique sku no, dtype: string"
      ]
     },
     "execution_count": 27,
     "metadata": {},
     "output_type": "execute_result"
    }
   ],
   "source": [
    "x['Unique sku no'].loc[:5]"
   ]
  },
  {
   "cell_type": "code",
   "execution_count": 28,
   "metadata": {},
   "outputs": [],
   "source": [
    "df3['unique sku'] = x['Unique sku no']"
   ]
  },
  {
   "cell_type": "code",
   "execution_count": 29,
   "metadata": {},
   "outputs": [
    {
     "data": {
      "text/html": [
       "<div>\n",
       "<style scoped>\n",
       "    .dataframe tbody tr th:only-of-type {\n",
       "        vertical-align: middle;\n",
       "    }\n",
       "\n",
       "    .dataframe tbody tr th {\n",
       "        vertical-align: top;\n",
       "    }\n",
       "\n",
       "    .dataframe thead th {\n",
       "        text-align: right;\n",
       "    }\n",
       "</style>\n",
       "<table border=\"1\" class=\"dataframe\">\n",
       "  <thead>\n",
       "    <tr style=\"text-align: right;\">\n",
       "      <th></th>\n",
       "      <th>SKU</th>\n",
       "      <th>Weight (g)</th>\n",
       "      <th>unique sku</th>\n",
       "    </tr>\n",
       "  </thead>\n",
       "  <tbody>\n",
       "    <tr>\n",
       "      <th>0</th>\n",
       "      <td>8904223815682</td>\n",
       "      <td>210</td>\n",
       "      <td>5682</td>\n",
       "    </tr>\n",
       "    <tr>\n",
       "      <th>1</th>\n",
       "      <td>8904223815859</td>\n",
       "      <td>165</td>\n",
       "      <td>5859</td>\n",
       "    </tr>\n",
       "    <tr>\n",
       "      <th>2</th>\n",
       "      <td>8904223815866</td>\n",
       "      <td>113</td>\n",
       "      <td>5866</td>\n",
       "    </tr>\n",
       "    <tr>\n",
       "      <th>3</th>\n",
       "      <td>8904223815873</td>\n",
       "      <td>65</td>\n",
       "      <td>5873</td>\n",
       "    </tr>\n",
       "    <tr>\n",
       "      <th>4</th>\n",
       "      <td>8904223816214</td>\n",
       "      <td>120</td>\n",
       "      <td>6214</td>\n",
       "    </tr>\n",
       "    <tr>\n",
       "      <th>5</th>\n",
       "      <td>8904223816665</td>\n",
       "      <td>102</td>\n",
       "      <td>6665</td>\n",
       "    </tr>\n",
       "    <tr>\n",
       "      <th>6</th>\n",
       "      <td>8904223817273</td>\n",
       "      <td>65</td>\n",
       "      <td>7273</td>\n",
       "    </tr>\n",
       "    <tr>\n",
       "      <th>7</th>\n",
       "      <td>8904223817334</td>\n",
       "      <td>170</td>\n",
       "      <td>7334</td>\n",
       "    </tr>\n",
       "    <tr>\n",
       "      <th>8</th>\n",
       "      <td>8904223817501</td>\n",
       "      <td>350</td>\n",
       "      <td>7501</td>\n",
       "    </tr>\n",
       "    <tr>\n",
       "      <th>9</th>\n",
       "      <td>8904223818430</td>\n",
       "      <td>165</td>\n",
       "      <td>8430</td>\n",
       "    </tr>\n",
       "  </tbody>\n",
       "</table>\n",
       "</div>"
      ],
      "text/plain": [
       "             SKU  Weight (g) unique sku\n",
       "0  8904223815682         210       5682\n",
       "1  8904223815859         165       5859\n",
       "2  8904223815866         113       5866\n",
       "3  8904223815873          65       5873\n",
       "4  8904223816214         120       6214\n",
       "5  8904223816665         102       6665\n",
       "6  8904223817273          65       7273\n",
       "7  8904223817334         170       7334\n",
       "8  8904223817501         350       7501\n",
       "9  8904223818430         165       8430"
      ]
     },
     "execution_count": 29,
     "metadata": {},
     "output_type": "execute_result"
    }
   ],
   "source": [
    "df3.head(10)"
   ]
  },
  {
   "cell_type": "code",
   "execution_count": 30,
   "metadata": {
    "scrolled": false
   },
   "outputs": [
    {
     "name": "stdout",
     "output_type": "stream",
     "text": [
      "<class 'pandas.core.frame.DataFrame'>\n",
      "RangeIndex: 66 entries, 0 to 65\n",
      "Data columns (total 3 columns):\n",
      " #   Column      Non-Null Count  Dtype \n",
      "---  ------      --------------  ----- \n",
      " 0   SKU         66 non-null     object\n",
      " 1   Weight (g)  66 non-null     int64 \n",
      " 2   unique sku  66 non-null     string\n",
      "dtypes: int64(1), object(1), string(1)\n",
      "memory usage: 1.7+ KB\n"
     ]
    }
   ],
   "source": [
    "df3.info()"
   ]
  },
  {
   "cell_type": "markdown",
   "metadata": {},
   "source": [
    "## DF4"
   ]
  },
  {
   "cell_type": "code",
   "execution_count": 31,
   "metadata": {},
   "outputs": [
    {
     "name": "stdout",
     "output_type": "stream",
     "text": [
      "<class 'pandas.core.frame.DataFrame'>\n",
      "RangeIndex: 124 entries, 0 to 123\n",
      "Data columns (total 8 columns):\n",
      " #   Column                Non-Null Count  Dtype  \n",
      "---  ------                --------------  -----  \n",
      " 0   AWB Code              124 non-null    int64  \n",
      " 1   Order ID              124 non-null    int64  \n",
      " 2   Charged Weight        124 non-null    float64\n",
      " 3   Warehouse Pincode     124 non-null    int64  \n",
      " 4   Customer Pincode      124 non-null    int64  \n",
      " 5   Zone                  124 non-null    object \n",
      " 6   Type of Shipment      124 non-null    object \n",
      " 7   Billing Amount (Rs.)  124 non-null    float64\n",
      "dtypes: float64(2), int64(4), object(2)\n",
      "memory usage: 7.9+ KB\n"
     ]
    }
   ],
   "source": [
    "df4.info()"
   ]
  },
  {
   "cell_type": "code",
   "execution_count": 32,
   "metadata": {},
   "outputs": [
    {
     "data": {
      "text/plain": [
       "108"
      ]
     },
     "execution_count": 32,
     "metadata": {},
     "output_type": "execute_result"
    }
   ],
   "source": [
    "df4['Customer Pincode'].nunique()"
   ]
  },
  {
   "cell_type": "code",
   "execution_count": 33,
   "metadata": {},
   "outputs": [
    {
     "data": {
      "text/plain": [
       "124"
      ]
     },
     "execution_count": 33,
     "metadata": {},
     "output_type": "execute_result"
    }
   ],
   "source": [
    "df4['Order ID'].nunique()    # distinct "
   ]
  },
  {
   "cell_type": "code",
   "execution_count": 34,
   "metadata": {},
   "outputs": [
    {
     "data": {
      "text/plain": [
       "124"
      ]
     },
     "execution_count": 34,
     "metadata": {},
     "output_type": "execute_result"
    }
   ],
   "source": [
    "df4['AWB Code'].nunique()    #distinct "
   ]
  },
  {
   "cell_type": "code",
   "execution_count": 35,
   "metadata": {},
   "outputs": [],
   "source": [
    "# if Charged Weight % 0.5 == 0.0 -> Charged Weight is in integer \n",
    "# So Weight slab charged by Courier Company (KG) is int(Charged Weight/ 0.5)\n",
    "# if Charged Weight % 0.5 != 0.0 -> Charged Weight is in decimal\n",
    "# So Weight slab charged by Courier Company (KG) int(Charged Weight/0.5) + 1"
   ]
  },
  {
   "cell_type": "code",
   "execution_count": 36,
   "metadata": {},
   "outputs": [],
   "source": [
    "df4['Weight slab (KG)'] = np.where(df4['Charged Weight'] % 0.5 ==0,df4['Charged Weight'] / 0.5 , df4['Charged Weight'] / 0.5+1)"
   ]
  },
  {
   "cell_type": "code",
   "execution_count": 37,
   "metadata": {},
   "outputs": [
    {
     "data": {
      "text/plain": [
       "0      3.60\n",
       "1      2.00\n",
       "2      5.00\n",
       "3      2.00\n",
       "4      1.30\n",
       "       ... \n",
       "119    2.46\n",
       "120    1.00\n",
       "121    1.00\n",
       "122    1.00\n",
       "123    1.00\n",
       "Name: Weight slab (KG), Length: 124, dtype: float64"
      ]
     },
     "execution_count": 37,
     "metadata": {},
     "output_type": "execute_result"
    }
   ],
   "source": [
    "df4['Weight slab (KG)']"
   ]
  },
  {
   "cell_type": "code",
   "execution_count": 38,
   "metadata": {},
   "outputs": [],
   "source": [
    "df4['Weight slab (KG)']=df4['Weight slab (KG)'].astype(int) * 0.5 "
   ]
  },
  {
   "cell_type": "code",
   "execution_count": 39,
   "metadata": {},
   "outputs": [
    {
     "data": {
      "text/plain": [
       "0      1.5\n",
       "1      1.0\n",
       "2      2.5\n",
       "3      1.0\n",
       "4      0.5\n",
       "      ... \n",
       "119    1.0\n",
       "120    0.5\n",
       "121    0.5\n",
       "122    0.5\n",
       "123    0.5\n",
       "Name: Weight slab (KG), Length: 124, dtype: float64"
      ]
     },
     "execution_count": 39,
     "metadata": {},
     "output_type": "execute_result"
    }
   ],
   "source": [
    "df4['Weight slab (KG)']"
   ]
  },
  {
   "cell_type": "code",
   "execution_count": 40,
   "metadata": {},
   "outputs": [],
   "source": [
    "df4['Zone'] = df4['Zone'].str.upper()"
   ]
  },
  {
   "cell_type": "code",
   "execution_count": 41,
   "metadata": {},
   "outputs": [
    {
     "data": {
      "text/html": [
       "<div>\n",
       "<style scoped>\n",
       "    .dataframe tbody tr th:only-of-type {\n",
       "        vertical-align: middle;\n",
       "    }\n",
       "\n",
       "    .dataframe tbody tr th {\n",
       "        vertical-align: top;\n",
       "    }\n",
       "\n",
       "    .dataframe thead th {\n",
       "        text-align: right;\n",
       "    }\n",
       "</style>\n",
       "<table border=\"1\" class=\"dataframe\">\n",
       "  <thead>\n",
       "    <tr style=\"text-align: right;\">\n",
       "      <th></th>\n",
       "      <th>AWB Code</th>\n",
       "      <th>Order ID</th>\n",
       "      <th>Charged Weight</th>\n",
       "      <th>Warehouse Pincode</th>\n",
       "      <th>Customer Pincode</th>\n",
       "      <th>Zone</th>\n",
       "      <th>Type of Shipment</th>\n",
       "      <th>Billing Amount (Rs.)</th>\n",
       "      <th>Weight slab (KG)</th>\n",
       "    </tr>\n",
       "  </thead>\n",
       "  <tbody>\n",
       "    <tr>\n",
       "      <th>0</th>\n",
       "      <td>1091117222124</td>\n",
       "      <td>2001806232</td>\n",
       "      <td>1.30</td>\n",
       "      <td>121003</td>\n",
       "      <td>507101</td>\n",
       "      <td>D</td>\n",
       "      <td>Forward charges</td>\n",
       "      <td>135.0</td>\n",
       "      <td>1.5</td>\n",
       "    </tr>\n",
       "    <tr>\n",
       "      <th>1</th>\n",
       "      <td>1091117222194</td>\n",
       "      <td>2001806273</td>\n",
       "      <td>1.00</td>\n",
       "      <td>121003</td>\n",
       "      <td>486886</td>\n",
       "      <td>D</td>\n",
       "      <td>Forward charges</td>\n",
       "      <td>90.2</td>\n",
       "      <td>1.0</td>\n",
       "    </tr>\n",
       "    <tr>\n",
       "      <th>2</th>\n",
       "      <td>1091117222931</td>\n",
       "      <td>2001806408</td>\n",
       "      <td>2.50</td>\n",
       "      <td>121003</td>\n",
       "      <td>532484</td>\n",
       "      <td>D</td>\n",
       "      <td>Forward charges</td>\n",
       "      <td>224.6</td>\n",
       "      <td>2.5</td>\n",
       "    </tr>\n",
       "    <tr>\n",
       "      <th>3</th>\n",
       "      <td>1091117223244</td>\n",
       "      <td>2001806458</td>\n",
       "      <td>1.00</td>\n",
       "      <td>121003</td>\n",
       "      <td>143001</td>\n",
       "      <td>B</td>\n",
       "      <td>Forward charges</td>\n",
       "      <td>61.3</td>\n",
       "      <td>1.0</td>\n",
       "    </tr>\n",
       "    <tr>\n",
       "      <th>4</th>\n",
       "      <td>1091117229345</td>\n",
       "      <td>2001807012</td>\n",
       "      <td>0.15</td>\n",
       "      <td>121003</td>\n",
       "      <td>515591</td>\n",
       "      <td>D</td>\n",
       "      <td>Forward charges</td>\n",
       "      <td>45.4</td>\n",
       "      <td>0.5</td>\n",
       "    </tr>\n",
       "    <tr>\n",
       "      <th>5</th>\n",
       "      <td>1091117229555</td>\n",
       "      <td>2001806686</td>\n",
       "      <td>0.15</td>\n",
       "      <td>121003</td>\n",
       "      <td>326502</td>\n",
       "      <td>D</td>\n",
       "      <td>Forward charges</td>\n",
       "      <td>45.4</td>\n",
       "      <td>0.5</td>\n",
       "    </tr>\n",
       "  </tbody>\n",
       "</table>\n",
       "</div>"
      ],
      "text/plain": [
       "        AWB Code    Order ID  Charged Weight  Warehouse Pincode  \\\n",
       "0  1091117222124  2001806232            1.30             121003   \n",
       "1  1091117222194  2001806273            1.00             121003   \n",
       "2  1091117222931  2001806408            2.50             121003   \n",
       "3  1091117223244  2001806458            1.00             121003   \n",
       "4  1091117229345  2001807012            0.15             121003   \n",
       "5  1091117229555  2001806686            0.15             121003   \n",
       "\n",
       "   Customer Pincode Zone Type of Shipment  Billing Amount (Rs.)  \\\n",
       "0            507101    D  Forward charges                 135.0   \n",
       "1            486886    D  Forward charges                  90.2   \n",
       "2            532484    D  Forward charges                 224.6   \n",
       "3            143001    B  Forward charges                  61.3   \n",
       "4            515591    D  Forward charges                  45.4   \n",
       "5            326502    D  Forward charges                  45.4   \n",
       "\n",
       "   Weight slab (KG)  \n",
       "0               1.5  \n",
       "1               1.0  \n",
       "2               2.5  \n",
       "3               1.0  \n",
       "4               0.5  \n",
       "5               0.5  "
      ]
     },
     "execution_count": 41,
     "metadata": {},
     "output_type": "execute_result"
    }
   ],
   "source": [
    "df4.head(6)"
   ]
  },
  {
   "cell_type": "markdown",
   "metadata": {},
   "source": [
    "## COMPUTE TOTAL WEIGHT BY X"
   ]
  },
  {
   "cell_type": "code",
   "execution_count": 42,
   "metadata": {},
   "outputs": [],
   "source": [
    "# I will computer total weight by X "
   ]
  },
  {
   "cell_type": "code",
   "execution_count": 43,
   "metadata": {
    "scrolled": true
   },
   "outputs": [
    {
     "data": {
      "text/plain": [
       "RangeIndex(start=0, stop=400, step=1)"
      ]
     },
     "execution_count": 43,
     "metadata": {},
     "output_type": "execute_result"
    }
   ],
   "source": [
    "df1['unique sku'].index"
   ]
  },
  {
   "cell_type": "code",
   "execution_count": 44,
   "metadata": {
    "scrolled": true
   },
   "outputs": [
    {
     "data": {
      "text/plain": [
       "'5859'"
      ]
     },
     "execution_count": 44,
     "metadata": {},
     "output_type": "execute_result"
    }
   ],
   "source": [
    "df3['unique sku'].loc[1]"
   ]
  },
  {
   "cell_type": "code",
   "execution_count": 45,
   "metadata": {
    "scrolled": true
   },
   "outputs": [
    {
     "data": {
      "text/plain": [
       "<StringArray>\n",
       "['8706', '9093', '9109', '8430', '9277', '2002', '8638',    '1', '9024',\n",
       " '9291', '8669', '9031', '9468', '9130', '8591', '8850', '8980', '8614',\n",
       " '9321', '9338', '8942', '8683', '9239', '9246', '9253', '9147', '5859',\n",
       " '7501', '7273', '8935', '8478', '9284', '6214', '8874', '9512', '8881',\n",
       " '8553', '6665', '2003', '9017', '9499', '8751', '5873', '9352', '9543',\n",
       " '9505', '9345', '8454', '8898', '2004', '9116', '5866', '5682', '7334',\n",
       " '2001', '9369', '9161', '9260', '8713', '8997', '9123', '5804', '8577',\n",
       " '9437', '8645']\n",
       "Length: 65, dtype: string"
      ]
     },
     "execution_count": 45,
     "metadata": {},
     "output_type": "execute_result"
    }
   ],
   "source": [
    "df1['unique sku'].unique()"
   ]
  },
  {
   "cell_type": "code",
   "execution_count": 46,
   "metadata": {
    "scrolled": true
   },
   "outputs": [
    {
     "data": {
      "text/plain": [
       "34"
      ]
     },
     "execution_count": 46,
     "metadata": {},
     "output_type": "execute_result"
    }
   ],
   "source": [
    "df3[df3['unique sku']== df1['unique sku'].loc[2]].index[0]"
   ]
  },
  {
   "cell_type": "code",
   "execution_count": 47,
   "metadata": {},
   "outputs": [],
   "source": [
    "# computing total weight and storing in total_weight \n",
    "total_weight = []\n",
    "for i in df1['unique sku'].index:\n",
    "    length = len(df3[df3['unique sku']== df1['unique sku'].loc[i]])\n",
    "    if length >=1:\n",
    "        ind = df3[df3['unique sku']== df1['unique sku'].loc[i]].index[0]\n",
    "        total_weight.append((df1['Order Qty'].loc[i] * df3['Weight (g)'].loc[ind])/1000.0)\n",
    "    else:\n",
    "        total_weight.append(0)"
   ]
  },
  {
   "cell_type": "code",
   "execution_count": 48,
   "metadata": {},
   "outputs": [
    {
     "data": {
      "text/plain": [
       "[0.127,\n",
       " 0.15,\n",
       " 0.1,\n",
       " 0.165,\n",
       " 0.35,\n",
       " 0.5,\n",
       " 0.274,\n",
       " 0.01,\n",
       " 0.448,\n",
       " 0.448,\n",
       " 0.411,\n",
       " 0.24,\n",
       " 0.01,\n",
       " 0.224,\n",
       " 0.224,\n",
       " 0.224,\n",
       " 0.48,\n",
       " 0.896,\n",
       " 0.35,\n",
       " 0.127,\n",
       " 0.24,\n",
       " 0.24,\n",
       " 0.165,\n",
       " 0.35,\n",
       " 0.24,\n",
       " 0.165,\n",
       " 0.11,\n",
       " 0.224,\n",
       " 0.224,\n",
       " 0.065,\n",
       " 0.112,\n",
       " 0.6,\n",
       " 0.6,\n",
       " 0.266,\n",
       " 0.242,\n",
       " 0.29,\n",
       " 0.29,\n",
       " 0.29,\n",
       " 0.24,\n",
       " 0.24,\n",
       " 0.24,\n",
       " 0.165,\n",
       " 0.35,\n",
       " 0.065,\n",
       " 0.133,\n",
       " 0.127,\n",
       " 0.01,\n",
       " 0.24,\n",
       " 0.48,\n",
       " 0.121,\n",
       " 0.35,\n",
       " 0.35,\n",
       " 0.12,\n",
       " 0.1,\n",
       " 0.21,\n",
       " 0.14,\n",
       " 0.224,\n",
       " 0.224,\n",
       " 0.224,\n",
       " 0.115,\n",
       " 0.127,\n",
       " 0.133,\n",
       " 0.24,\n",
       " 0.24,\n",
       " 0.2,\n",
       " 0.48,\n",
       " 0.204,\n",
       " 0.35,\n",
       " 0.12,\n",
       " 0.1,\n",
       " 0.127,\n",
       " 0.12,\n",
       " 0.1,\n",
       " 0.127,\n",
       " 0.133,\n",
       " 0.24,\n",
       " 0.127,\n",
       " 0.133,\n",
       " 0.24,\n",
       " 0.35,\n",
       " 0.35,\n",
       " 0.35,\n",
       " 0.35,\n",
       " 0.5,\n",
       " 0.224,\n",
       " 0.224,\n",
       " 0.224,\n",
       " 0.11,\n",
       " 0.448,\n",
       " 0.448,\n",
       " 0.115,\n",
       " 0.127,\n",
       " 0.133,\n",
       " 0.24,\n",
       " 0.127,\n",
       " 0.133,\n",
       " 0.24,\n",
       " 0.12,\n",
       " 0.48,\n",
       " 0.121,\n",
       " 0.127,\n",
       " 0.24,\n",
       " 0.21,\n",
       " 0.112,\n",
       " 0.127,\n",
       " 0.24,\n",
       " 0.24,\n",
       " 0.165,\n",
       " 0.113,\n",
       " 0.065,\n",
       " 0.165,\n",
       " 0.165,\n",
       " 0.3,\n",
       " 0.24,\n",
       " 0.24,\n",
       " 0.12,\n",
       " 0.21,\n",
       " 0.21,\n",
       " 0.21,\n",
       " 0.24,\n",
       " 0.165,\n",
       " 0.1,\n",
       " 0.12,\n",
       " 0.1,\n",
       " 0.14,\n",
       " 0.224,\n",
       " 0.224,\n",
       " 0.224,\n",
       " 0.127,\n",
       " 0.24,\n",
       " 0.24,\n",
       " 0.127,\n",
       " 0.133,\n",
       " 0.24,\n",
       " 0.127,\n",
       " 0.121,\n",
       " 0.24,\n",
       " 0.127,\n",
       " 0.24,\n",
       " 0.24,\n",
       " 0.24,\n",
       " 0.232,\n",
       " 0.24,\n",
       " 0.274,\n",
       " 0.127,\n",
       " 0.133,\n",
       " 0.24,\n",
       " 0.127,\n",
       " 0.133,\n",
       " 0.24,\n",
       " 0.24,\n",
       " 0.121,\n",
       " 0.24,\n",
       " 0.24,\n",
       " 0.121,\n",
       " 0.21,\n",
       " 0.21,\n",
       " 0.21,\n",
       " 0.35,\n",
       " 0.35,\n",
       " 0.35,\n",
       " 0.35,\n",
       " 0.224,\n",
       " 0.224,\n",
       " 0.12,\n",
       " 0.1,\n",
       " 0.14,\n",
       " 0.14,\n",
       " 0.127,\n",
       " 0.133,\n",
       " 0.24,\n",
       " 0.232,\n",
       " 0.35,\n",
       " 0.165,\n",
       " 0.12,\n",
       " 0.12,\n",
       " 0.232,\n",
       " 0.5,\n",
       " 0.03,\n",
       " 0.127,\n",
       " 0.896,\n",
       " 0.242,\n",
       " 0.24,\n",
       " 0.127,\n",
       " 0.24,\n",
       " 0.24,\n",
       " 0.127,\n",
       " 0.133,\n",
       " 0.24,\n",
       " 0.127,\n",
       " 0.133,\n",
       " 0.24,\n",
       " 0.127,\n",
       " 0.133,\n",
       " 0.24,\n",
       " 0.127,\n",
       " 0.133,\n",
       " 0.24,\n",
       " 0.6,\n",
       " 0.13,\n",
       " 0.226,\n",
       " 0.165,\n",
       " 0.21,\n",
       " 0.12,\n",
       " 0.1,\n",
       " 0.127,\n",
       " 0.133,\n",
       " 0.24,\n",
       " 0.065,\n",
       " 0.113,\n",
       " 0.165,\n",
       " 0.17,\n",
       " 0.5,\n",
       " 0.17,\n",
       " 0.127,\n",
       " 0.133,\n",
       " 0.24,\n",
       " 0.48,\n",
       " 0.254,\n",
       " 0.127,\n",
       " 0.24,\n",
       " 0.24,\n",
       " 0.127,\n",
       " 0.133,\n",
       " 0.24,\n",
       " 0.115,\n",
       " 0.13,\n",
       " 0.121,\n",
       " 0.24,\n",
       " 0.24,\n",
       " 0.127,\n",
       " 0.24,\n",
       " 0.24,\n",
       " 0.165,\n",
       " 0.065,\n",
       " 0.113,\n",
       " 0.224,\n",
       " 0.224,\n",
       " 0.224,\n",
       " 0.115,\n",
       " 0.13,\n",
       " 0.24,\n",
       " 0.127,\n",
       " 0.133,\n",
       " 0.24,\n",
       " 0.24,\n",
       " 0.24,\n",
       " 0.121,\n",
       " 0.12,\n",
       " 0.6,\n",
       " 0.165,\n",
       " 0.24,\n",
       " 0.24,\n",
       " 0.24,\n",
       " 0.21,\n",
       " 0.127,\n",
       " 0.133,\n",
       " 0.24,\n",
       " 0.58,\n",
       " 0.127,\n",
       " 0.24,\n",
       " 0.24,\n",
       " 0.24,\n",
       " 0.127,\n",
       " 0.133,\n",
       " 0.24,\n",
       " 0.127,\n",
       " 0.24,\n",
       " 0.24,\n",
       " 0.127,\n",
       " 0.133,\n",
       " 0.24,\n",
       " 0.24,\n",
       " 0.24,\n",
       " 0.35,\n",
       " 0.48,\n",
       " 0.12,\n",
       " 0.448,\n",
       " 0.672,\n",
       " 0.672,\n",
       " 0.224,\n",
       " 0.224,\n",
       " 0.224,\n",
       " 0.127,\n",
       " 0.133,\n",
       " 0.24,\n",
       " 0.49,\n",
       " 0.127,\n",
       " 0.133,\n",
       " 0.24,\n",
       " 0.127,\n",
       " 0.24,\n",
       " 0.24,\n",
       " 0.127,\n",
       " 0.133,\n",
       " 0.24,\n",
       " 0.127,\n",
       " 0.133,\n",
       " 0.24,\n",
       " 0.29,\n",
       " 0.29,\n",
       " 0.29,\n",
       " 0.12,\n",
       " 0.065,\n",
       " 0.113,\n",
       " 0.448,\n",
       " 0.448,\n",
       " 0.448,\n",
       " 0.115,\n",
       " 0.24,\n",
       " 0.127,\n",
       " 0.133,\n",
       " 0.24,\n",
       " 0.127,\n",
       " 0.133,\n",
       " 0.24,\n",
       " 0.42,\n",
       " 0.42,\n",
       " 0.127,\n",
       " 0.133,\n",
       " 0.24,\n",
       " 0.127,\n",
       " 0.24,\n",
       " 0.121,\n",
       " 0.127,\n",
       " 0.274,\n",
       " 0.21,\n",
       " 0.84,\n",
       " 0.127,\n",
       " 0.133,\n",
       " 0.24,\n",
       " 0.112,\n",
       " 0.165,\n",
       " 0.24,\n",
       " 0.21,\n",
       " 0.24,\n",
       " 0.127,\n",
       " 0.133,\n",
       " 0.24,\n",
       " 0.24,\n",
       " 0.127,\n",
       " 0.133,\n",
       " 0.24,\n",
       " 0.24,\n",
       " 0.121,\n",
       " 0.12,\n",
       " 0.12,\n",
       " 0.112,\n",
       " 0.25,\n",
       " 0.127,\n",
       " 0.133,\n",
       " 0.24,\n",
       " 0.12,\n",
       " 0.12,\n",
       " 0.112,\n",
       " 0.29,\n",
       " 0.16,\n",
       " 0.15,\n",
       " 0.127,\n",
       " 0.127,\n",
       " 0.133,\n",
       " 0.24,\n",
       " 0.254,\n",
       " 0.266,\n",
       " 0.48,\n",
       " 0.127,\n",
       " 0.133,\n",
       " 0.24,\n",
       " 0.121,\n",
       " 0.35,\n",
       " 0.35,\n",
       " 0.127,\n",
       " 0.133,\n",
       " 0.24,\n",
       " 1.104,\n",
       " 0.165,\n",
       " 0.896,\n",
       " 0.1,\n",
       " 0.127,\n",
       " 0.133,\n",
       " 0.24,\n",
       " 0.127,\n",
       " 0.133,\n",
       " 0.24,\n",
       " 0.115,\n",
       " 0.127,\n",
       " 0.133,\n",
       " 0.24,\n",
       " 0.115,\n",
       " 0.13,\n",
       " 0.115,\n",
       " 0.13,\n",
       " 0.822,\n",
       " 0.48,\n",
       " 0.127,\n",
       " 0.133,\n",
       " 0.24,\n",
       " 0.48,\n",
       " 0.12,\n",
       " 0.1]"
      ]
     },
     "execution_count": 48,
     "metadata": {},
     "output_type": "execute_result"
    }
   ],
   "source": [
    "total_weight"
   ]
  },
  {
   "cell_type": "code",
   "execution_count": 49,
   "metadata": {},
   "outputs": [],
   "source": [
    "df1['total weight'] = pd.DataFrame(total_weight , dtype = \"float\") # adding total weight column to df1"
   ]
  },
  {
   "cell_type": "code",
   "execution_count": 50,
   "metadata": {
    "scrolled": true
   },
   "outputs": [
    {
     "name": "stdout",
     "output_type": "stream",
     "text": [
      "<class 'pandas.core.frame.DataFrame'>\n",
      "RangeIndex: 400 entries, 0 to 399\n",
      "Data columns (total 5 columns):\n",
      " #   Column         Non-Null Count  Dtype  \n",
      "---  ------         --------------  -----  \n",
      " 0   ExternOrderNo  400 non-null    int64  \n",
      " 1   SKU            400 non-null    object \n",
      " 2   Order Qty      400 non-null    float64\n",
      " 3   unique sku     400 non-null    string \n",
      " 4   total weight   400 non-null    float64\n",
      "dtypes: float64(2), int64(1), object(1), string(1)\n",
      "memory usage: 15.8+ KB\n"
     ]
    }
   ],
   "source": [
    "df1.info()"
   ]
  },
  {
   "cell_type": "code",
   "execution_count": 51,
   "metadata": {
    "scrolled": true
   },
   "outputs": [
    {
     "data": {
      "text/html": [
       "<div>\n",
       "<style scoped>\n",
       "    .dataframe tbody tr th:only-of-type {\n",
       "        vertical-align: middle;\n",
       "    }\n",
       "\n",
       "    .dataframe tbody tr th {\n",
       "        vertical-align: top;\n",
       "    }\n",
       "\n",
       "    .dataframe thead th {\n",
       "        text-align: right;\n",
       "    }\n",
       "</style>\n",
       "<table border=\"1\" class=\"dataframe\">\n",
       "  <thead>\n",
       "    <tr style=\"text-align: right;\">\n",
       "      <th></th>\n",
       "      <th>ExternOrderNo</th>\n",
       "      <th>SKU</th>\n",
       "      <th>Order Qty</th>\n",
       "      <th>unique sku</th>\n",
       "      <th>total weight</th>\n",
       "    </tr>\n",
       "  </thead>\n",
       "  <tbody>\n",
       "    <tr>\n",
       "      <th>392</th>\n",
       "      <td>2001806232</td>\n",
       "      <td>8904223818645</td>\n",
       "      <td>6.0</td>\n",
       "      <td>8645</td>\n",
       "      <td>0.822</td>\n",
       "    </tr>\n",
       "    <tr>\n",
       "      <th>393</th>\n",
       "      <td>2001806232</td>\n",
       "      <td>8904223819147</td>\n",
       "      <td>2.0</td>\n",
       "      <td>9147</td>\n",
       "      <td>0.480</td>\n",
       "    </tr>\n",
       "  </tbody>\n",
       "</table>\n",
       "</div>"
      ],
      "text/plain": [
       "     ExternOrderNo            SKU  Order Qty unique sku  total weight\n",
       "392     2001806232  8904223818645        6.0       8645         0.822\n",
       "393     2001806232  8904223819147        2.0       9147         0.480"
      ]
     },
     "execution_count": 51,
     "metadata": {},
     "output_type": "execute_result"
    }
   ],
   "source": [
    "df1[df1['ExternOrderNo'] == 2001806232]"
   ]
  },
  {
   "cell_type": "markdown",
   "metadata": {},
   "source": [
    "## VERIFYING WEIGHTS WITH EXPECTED RESULT WEIGHTS "
   ]
  },
  {
   "cell_type": "code",
   "execution_count": 52,
   "metadata": {},
   "outputs": [],
   "source": [
    "# calculate sum total_weight of both records = 0.822 + 0.480 = 1.32 approx 1.3 as in expected result record for this ExternOrderNo"
   ]
  },
  {
   "cell_type": "code",
   "execution_count": 53,
   "metadata": {
    "scrolled": true
   },
   "outputs": [
    {
     "data": {
      "text/html": [
       "<div>\n",
       "<style scoped>\n",
       "    .dataframe tbody tr th:only-of-type {\n",
       "        vertical-align: middle;\n",
       "    }\n",
       "\n",
       "    .dataframe tbody tr th {\n",
       "        vertical-align: top;\n",
       "    }\n",
       "\n",
       "    .dataframe thead th {\n",
       "        text-align: right;\n",
       "    }\n",
       "</style>\n",
       "<table border=\"1\" class=\"dataframe\">\n",
       "  <thead>\n",
       "    <tr style=\"text-align: right;\">\n",
       "      <th></th>\n",
       "      <th>ExternOrderNo</th>\n",
       "      <th>SKU</th>\n",
       "      <th>Order Qty</th>\n",
       "      <th>unique sku</th>\n",
       "      <th>total weight</th>\n",
       "    </tr>\n",
       "  </thead>\n",
       "  <tbody>\n",
       "    <tr>\n",
       "      <th>398</th>\n",
       "      <td>2001806210</td>\n",
       "      <td>8904223816214</td>\n",
       "      <td>1.0</td>\n",
       "      <td>6214</td>\n",
       "      <td>0.12</td>\n",
       "    </tr>\n",
       "    <tr>\n",
       "      <th>399</th>\n",
       "      <td>2001806210</td>\n",
       "      <td>8904223818874</td>\n",
       "      <td>1.0</td>\n",
       "      <td>8874</td>\n",
       "      <td>0.10</td>\n",
       "    </tr>\n",
       "  </tbody>\n",
       "</table>\n",
       "</div>"
      ],
      "text/plain": [
       "     ExternOrderNo            SKU  Order Qty unique sku  total weight\n",
       "398     2001806210  8904223816214        1.0       6214          0.12\n",
       "399     2001806210  8904223818874        1.0       8874          0.10"
      ]
     },
     "execution_count": 53,
     "metadata": {},
     "output_type": "execute_result"
    }
   ],
   "source": [
    "df1[df1['ExternOrderNo'] == 2001806210]"
   ]
  },
  {
   "cell_type": "code",
   "execution_count": 54,
   "metadata": {},
   "outputs": [],
   "source": [
    "# calculate sum total_weight of both records = 0.12 + 0.10 = 0.22 which is same as in expected result record for this ExternOrderNo"
   ]
  },
  {
   "cell_type": "code",
   "execution_count": 55,
   "metadata": {},
   "outputs": [
    {
     "data": {
      "text/html": [
       "<div>\n",
       "<style scoped>\n",
       "    .dataframe tbody tr th:only-of-type {\n",
       "        vertical-align: middle;\n",
       "    }\n",
       "\n",
       "    .dataframe tbody tr th {\n",
       "        vertical-align: top;\n",
       "    }\n",
       "\n",
       "    .dataframe thead th {\n",
       "        text-align: right;\n",
       "    }\n",
       "</style>\n",
       "<table border=\"1\" class=\"dataframe\">\n",
       "  <thead>\n",
       "    <tr style=\"text-align: right;\">\n",
       "      <th></th>\n",
       "      <th>ExternOrderNo</th>\n",
       "      <th>total weight</th>\n",
       "    </tr>\n",
       "  </thead>\n",
       "  <tbody>\n",
       "    <tr>\n",
       "      <th>0</th>\n",
       "      <td>2001827036</td>\n",
       "      <td>0.127</td>\n",
       "    </tr>\n",
       "    <tr>\n",
       "      <th>1</th>\n",
       "      <td>2001827036</td>\n",
       "      <td>0.150</td>\n",
       "    </tr>\n",
       "    <tr>\n",
       "      <th>2</th>\n",
       "      <td>2001827036</td>\n",
       "      <td>0.100</td>\n",
       "    </tr>\n",
       "    <tr>\n",
       "      <th>3</th>\n",
       "      <td>2001827036</td>\n",
       "      <td>0.165</td>\n",
       "    </tr>\n",
       "    <tr>\n",
       "      <th>4</th>\n",
       "      <td>2001827036</td>\n",
       "      <td>0.350</td>\n",
       "    </tr>\n",
       "    <tr>\n",
       "      <th>...</th>\n",
       "      <td>...</td>\n",
       "      <td>...</td>\n",
       "    </tr>\n",
       "    <tr>\n",
       "      <th>395</th>\n",
       "      <td>2001806229</td>\n",
       "      <td>0.133</td>\n",
       "    </tr>\n",
       "    <tr>\n",
       "      <th>396</th>\n",
       "      <td>2001806229</td>\n",
       "      <td>0.240</td>\n",
       "    </tr>\n",
       "    <tr>\n",
       "      <th>397</th>\n",
       "      <td>2001806226</td>\n",
       "      <td>0.480</td>\n",
       "    </tr>\n",
       "    <tr>\n",
       "      <th>398</th>\n",
       "      <td>2001806210</td>\n",
       "      <td>0.120</td>\n",
       "    </tr>\n",
       "    <tr>\n",
       "      <th>399</th>\n",
       "      <td>2001806210</td>\n",
       "      <td>0.100</td>\n",
       "    </tr>\n",
       "  </tbody>\n",
       "</table>\n",
       "<p>400 rows × 2 columns</p>\n",
       "</div>"
      ],
      "text/plain": [
       "     ExternOrderNo  total weight\n",
       "0       2001827036         0.127\n",
       "1       2001827036         0.150\n",
       "2       2001827036         0.100\n",
       "3       2001827036         0.165\n",
       "4       2001827036         0.350\n",
       "..             ...           ...\n",
       "395     2001806229         0.133\n",
       "396     2001806229         0.240\n",
       "397     2001806226         0.480\n",
       "398     2001806210         0.120\n",
       "399     2001806210         0.100\n",
       "\n",
       "[400 rows x 2 columns]"
      ]
     },
     "execution_count": 55,
     "metadata": {},
     "output_type": "execute_result"
    }
   ],
   "source": [
    "df1[['ExternOrderNo' , 'total weight']]"
   ]
  },
  {
   "cell_type": "code",
   "execution_count": 56,
   "metadata": {},
   "outputs": [],
   "source": [
    "# creating new data frame df \n",
    "df = pd.DataFrame(df1[['ExternOrderNo' , 'total weight']] , index = range(0,400))"
   ]
  },
  {
   "cell_type": "code",
   "execution_count": 57,
   "metadata": {},
   "outputs": [
    {
     "data": {
      "text/html": [
       "<div>\n",
       "<style scoped>\n",
       "    .dataframe tbody tr th:only-of-type {\n",
       "        vertical-align: middle;\n",
       "    }\n",
       "\n",
       "    .dataframe tbody tr th {\n",
       "        vertical-align: top;\n",
       "    }\n",
       "\n",
       "    .dataframe thead th {\n",
       "        text-align: right;\n",
       "    }\n",
       "</style>\n",
       "<table border=\"1\" class=\"dataframe\">\n",
       "  <thead>\n",
       "    <tr style=\"text-align: right;\">\n",
       "      <th></th>\n",
       "      <th>ExternOrderNo</th>\n",
       "      <th>total weight</th>\n",
       "    </tr>\n",
       "  </thead>\n",
       "  <tbody>\n",
       "    <tr>\n",
       "      <th>0</th>\n",
       "      <td>2001827036</td>\n",
       "      <td>0.127</td>\n",
       "    </tr>\n",
       "    <tr>\n",
       "      <th>1</th>\n",
       "      <td>2001827036</td>\n",
       "      <td>0.150</td>\n",
       "    </tr>\n",
       "    <tr>\n",
       "      <th>2</th>\n",
       "      <td>2001827036</td>\n",
       "      <td>0.100</td>\n",
       "    </tr>\n",
       "    <tr>\n",
       "      <th>3</th>\n",
       "      <td>2001827036</td>\n",
       "      <td>0.165</td>\n",
       "    </tr>\n",
       "    <tr>\n",
       "      <th>4</th>\n",
       "      <td>2001827036</td>\n",
       "      <td>0.350</td>\n",
       "    </tr>\n",
       "    <tr>\n",
       "      <th>...</th>\n",
       "      <td>...</td>\n",
       "      <td>...</td>\n",
       "    </tr>\n",
       "    <tr>\n",
       "      <th>395</th>\n",
       "      <td>2001806229</td>\n",
       "      <td>0.133</td>\n",
       "    </tr>\n",
       "    <tr>\n",
       "      <th>396</th>\n",
       "      <td>2001806229</td>\n",
       "      <td>0.240</td>\n",
       "    </tr>\n",
       "    <tr>\n",
       "      <th>397</th>\n",
       "      <td>2001806226</td>\n",
       "      <td>0.480</td>\n",
       "    </tr>\n",
       "    <tr>\n",
       "      <th>398</th>\n",
       "      <td>2001806210</td>\n",
       "      <td>0.120</td>\n",
       "    </tr>\n",
       "    <tr>\n",
       "      <th>399</th>\n",
       "      <td>2001806210</td>\n",
       "      <td>0.100</td>\n",
       "    </tr>\n",
       "  </tbody>\n",
       "</table>\n",
       "<p>400 rows × 2 columns</p>\n",
       "</div>"
      ],
      "text/plain": [
       "     ExternOrderNo  total weight\n",
       "0       2001827036         0.127\n",
       "1       2001827036         0.150\n",
       "2       2001827036         0.100\n",
       "3       2001827036         0.165\n",
       "4       2001827036         0.350\n",
       "..             ...           ...\n",
       "395     2001806229         0.133\n",
       "396     2001806229         0.240\n",
       "397     2001806226         0.480\n",
       "398     2001806210         0.120\n",
       "399     2001806210         0.100\n",
       "\n",
       "[400 rows x 2 columns]"
      ]
     },
     "execution_count": 57,
     "metadata": {},
     "output_type": "execute_result"
    }
   ],
   "source": [
    "df"
   ]
  },
  {
   "cell_type": "code",
   "execution_count": 58,
   "metadata": {},
   "outputs": [],
   "source": [
    "# suming total weights as per order id \n",
    "\n",
    "df = df.groupby(['ExternOrderNo']).sum()"
   ]
  },
  {
   "cell_type": "code",
   "execution_count": 59,
   "metadata": {
    "scrolled": false
   },
   "outputs": [
    {
     "data": {
      "text/html": [
       "<div>\n",
       "<style scoped>\n",
       "    .dataframe tbody tr th:only-of-type {\n",
       "        vertical-align: middle;\n",
       "    }\n",
       "\n",
       "    .dataframe tbody tr th {\n",
       "        vertical-align: top;\n",
       "    }\n",
       "\n",
       "    .dataframe thead th {\n",
       "        text-align: right;\n",
       "    }\n",
       "</style>\n",
       "<table border=\"1\" class=\"dataframe\">\n",
       "  <thead>\n",
       "    <tr style=\"text-align: right;\">\n",
       "      <th></th>\n",
       "      <th>total weight</th>\n",
       "    </tr>\n",
       "    <tr>\n",
       "      <th>ExternOrderNo</th>\n",
       "      <th></th>\n",
       "    </tr>\n",
       "  </thead>\n",
       "  <tbody>\n",
       "    <tr>\n",
       "      <th>2001806210</th>\n",
       "      <td>0.220</td>\n",
       "    </tr>\n",
       "    <tr>\n",
       "      <th>2001806226</th>\n",
       "      <td>0.480</td>\n",
       "    </tr>\n",
       "    <tr>\n",
       "      <th>2001806229</th>\n",
       "      <td>0.500</td>\n",
       "    </tr>\n",
       "    <tr>\n",
       "      <th>2001806232</th>\n",
       "      <td>1.302</td>\n",
       "    </tr>\n",
       "    <tr>\n",
       "      <th>2001806233</th>\n",
       "      <td>0.245</td>\n",
       "    </tr>\n",
       "    <tr>\n",
       "      <th>...</th>\n",
       "      <td>...</td>\n",
       "    </tr>\n",
       "    <tr>\n",
       "      <th>2001821995</th>\n",
       "      <td>0.477</td>\n",
       "    </tr>\n",
       "    <tr>\n",
       "      <th>2001822466</th>\n",
       "      <td>1.376</td>\n",
       "    </tr>\n",
       "    <tr>\n",
       "      <th>2001823564</th>\n",
       "      <td>0.672</td>\n",
       "    </tr>\n",
       "    <tr>\n",
       "      <th>2001825261</th>\n",
       "      <td>1.557</td>\n",
       "    </tr>\n",
       "    <tr>\n",
       "      <th>2001827036</th>\n",
       "      <td>1.676</td>\n",
       "    </tr>\n",
       "  </tbody>\n",
       "</table>\n",
       "<p>124 rows × 1 columns</p>\n",
       "</div>"
      ],
      "text/plain": [
       "               total weight\n",
       "ExternOrderNo              \n",
       "2001806210            0.220\n",
       "2001806226            0.480\n",
       "2001806229            0.500\n",
       "2001806232            1.302\n",
       "2001806233            0.245\n",
       "...                     ...\n",
       "2001821995            0.477\n",
       "2001822466            1.376\n",
       "2001823564            0.672\n",
       "2001825261            1.557\n",
       "2001827036            1.676\n",
       "\n",
       "[124 rows x 1 columns]"
      ]
     },
     "execution_count": 59,
     "metadata": {},
     "output_type": "execute_result"
    }
   ],
   "source": [
    "df"
   ]
  },
  {
   "cell_type": "markdown",
   "metadata": {},
   "source": [
    "## COMPUTE WEIGHT SLAB "
   ]
  },
  {
   "cell_type": "code",
   "execution_count": 60,
   "metadata": {},
   "outputs": [],
   "source": [
    "# Computing weight slab \n",
    "\n",
    "df['Weight slab (KG)'] = np.where(df['total weight'] % 0.5 ==0,df['total weight'] / 0.5 , df['total weight'] / 0.5+1)"
   ]
  },
  {
   "cell_type": "code",
   "execution_count": 61,
   "metadata": {},
   "outputs": [],
   "source": [
    "df['Weight slab (KG)']=df['Weight slab (KG)'].astype(int) * 0.5 "
   ]
  },
  {
   "cell_type": "code",
   "execution_count": 62,
   "metadata": {
    "scrolled": true
   },
   "outputs": [
    {
     "data": {
      "text/plain": [
       "total weight        1.676\n",
       "Weight slab (KG)    2.000\n",
       "Name: 2001827036, dtype: float64"
      ]
     },
     "execution_count": 62,
     "metadata": {},
     "output_type": "execute_result"
    }
   ],
   "source": [
    "df.loc[2001827036]"
   ]
  },
  {
   "cell_type": "code",
   "execution_count": 63,
   "metadata": {},
   "outputs": [
    {
     "name": "stdout",
     "output_type": "stream",
     "text": [
      "<class 'pandas.core.frame.DataFrame'>\n",
      "RangeIndex: 124 entries, 0 to 123\n",
      "Data columns (total 9 columns):\n",
      " #   Column                Non-Null Count  Dtype  \n",
      "---  ------                --------------  -----  \n",
      " 0   AWB Code              124 non-null    int64  \n",
      " 1   Order ID              124 non-null    int64  \n",
      " 2   Charged Weight        124 non-null    float64\n",
      " 3   Warehouse Pincode     124 non-null    int64  \n",
      " 4   Customer Pincode      124 non-null    int64  \n",
      " 5   Zone                  124 non-null    object \n",
      " 6   Type of Shipment      124 non-null    object \n",
      " 7   Billing Amount (Rs.)  124 non-null    float64\n",
      " 8   Weight slab (KG)      124 non-null    float64\n",
      "dtypes: float64(3), int64(4), object(2)\n",
      "memory usage: 8.8+ KB\n"
     ]
    }
   ],
   "source": [
    "df4.info()"
   ]
  },
  {
   "cell_type": "code",
   "execution_count": 64,
   "metadata": {},
   "outputs": [],
   "source": [
    "# create new data frame dfnew \n",
    "dfnew = df4[['Order ID' , 'AWB Code', 'Customer Pincode' , 'Type of Shipment']]"
   ]
  },
  {
   "cell_type": "code",
   "execution_count": 65,
   "metadata": {},
   "outputs": [
    {
     "data": {
      "text/plain": [
       "0     507101\n",
       "1     486886\n",
       "2     532484\n",
       "3     143001\n",
       "4     515591\n",
       "5     326502\n",
       "6     208019\n",
       "7     140301\n",
       "8     396001\n",
       "9     711106\n",
       "10    284001\n",
       "Name: Customer Pincode, dtype: int64"
      ]
     },
     "execution_count": 65,
     "metadata": {},
     "output_type": "execute_result"
    }
   ],
   "source": [
    "dfnew['Customer Pincode'].loc[:10]"
   ]
  },
  {
   "cell_type": "code",
   "execution_count": 66,
   "metadata": {},
   "outputs": [
    {
     "data": {
      "text/plain": [
       "0     507101\n",
       "1     486886\n",
       "2     532484\n",
       "3     143001\n",
       "4     515591\n",
       "5     326502\n",
       "6     208019\n",
       "7     140301\n",
       "8     396001\n",
       "9     711106\n",
       "10    284001\n",
       "Name: Customer Pincode, dtype: int64"
      ]
     },
     "execution_count": 66,
     "metadata": {},
     "output_type": "execute_result"
    }
   ],
   "source": [
    "df2['Customer Pincode'].loc[:10]"
   ]
  },
  {
   "cell_type": "code",
   "execution_count": 67,
   "metadata": {},
   "outputs": [
    {
     "data": {
      "text/plain": [
       "124"
      ]
     },
     "execution_count": 67,
     "metadata": {},
     "output_type": "execute_result"
    }
   ],
   "source": [
    "len(dfnew['Customer Pincode'] == df4['Customer Pincode'])"
   ]
  },
  {
   "cell_type": "code",
   "execution_count": 68,
   "metadata": {},
   "outputs": [],
   "source": [
    "# create zone column dfnew['zone']\n",
    "\n",
    "dfnew['Delivery Zone as per X'] = df2['Zone']"
   ]
  },
  {
   "cell_type": "code",
   "execution_count": 69,
   "metadata": {},
   "outputs": [
    {
     "data": {
      "text/html": [
       "<div>\n",
       "<style scoped>\n",
       "    .dataframe tbody tr th:only-of-type {\n",
       "        vertical-align: middle;\n",
       "    }\n",
       "\n",
       "    .dataframe tbody tr th {\n",
       "        vertical-align: top;\n",
       "    }\n",
       "\n",
       "    .dataframe thead th {\n",
       "        text-align: right;\n",
       "    }\n",
       "</style>\n",
       "<table border=\"1\" class=\"dataframe\">\n",
       "  <thead>\n",
       "    <tr style=\"text-align: right;\">\n",
       "      <th></th>\n",
       "      <th>Order ID</th>\n",
       "      <th>AWB Code</th>\n",
       "      <th>Customer Pincode</th>\n",
       "      <th>Type of Shipment</th>\n",
       "      <th>Delivery Zone as per X</th>\n",
       "    </tr>\n",
       "  </thead>\n",
       "  <tbody>\n",
       "    <tr>\n",
       "      <th>0</th>\n",
       "      <td>2001806232</td>\n",
       "      <td>1091117222124</td>\n",
       "      <td>507101</td>\n",
       "      <td>Forward charges</td>\n",
       "      <td>d</td>\n",
       "    </tr>\n",
       "    <tr>\n",
       "      <th>1</th>\n",
       "      <td>2001806273</td>\n",
       "      <td>1091117222194</td>\n",
       "      <td>486886</td>\n",
       "      <td>Forward charges</td>\n",
       "      <td>d</td>\n",
       "    </tr>\n",
       "    <tr>\n",
       "      <th>2</th>\n",
       "      <td>2001806408</td>\n",
       "      <td>1091117222931</td>\n",
       "      <td>532484</td>\n",
       "      <td>Forward charges</td>\n",
       "      <td>d</td>\n",
       "    </tr>\n",
       "    <tr>\n",
       "      <th>3</th>\n",
       "      <td>2001806458</td>\n",
       "      <td>1091117223244</td>\n",
       "      <td>143001</td>\n",
       "      <td>Forward charges</td>\n",
       "      <td>b</td>\n",
       "    </tr>\n",
       "    <tr>\n",
       "      <th>4</th>\n",
       "      <td>2001807012</td>\n",
       "      <td>1091117229345</td>\n",
       "      <td>515591</td>\n",
       "      <td>Forward charges</td>\n",
       "      <td>d</td>\n",
       "    </tr>\n",
       "    <tr>\n",
       "      <th>5</th>\n",
       "      <td>2001806686</td>\n",
       "      <td>1091117229555</td>\n",
       "      <td>326502</td>\n",
       "      <td>Forward charges</td>\n",
       "      <td>d</td>\n",
       "    </tr>\n",
       "    <tr>\n",
       "      <th>6</th>\n",
       "      <td>2001806885</td>\n",
       "      <td>1091117229776</td>\n",
       "      <td>208019</td>\n",
       "      <td>Forward charges</td>\n",
       "      <td>b</td>\n",
       "    </tr>\n",
       "    <tr>\n",
       "      <th>7</th>\n",
       "      <td>2001807058</td>\n",
       "      <td>1091117323112</td>\n",
       "      <td>140301</td>\n",
       "      <td>Forward charges</td>\n",
       "      <td>b</td>\n",
       "    </tr>\n",
       "    <tr>\n",
       "      <th>8</th>\n",
       "      <td>2001807186</td>\n",
       "      <td>1091117323812</td>\n",
       "      <td>396001</td>\n",
       "      <td>Forward charges</td>\n",
       "      <td>d</td>\n",
       "    </tr>\n",
       "    <tr>\n",
       "      <th>9</th>\n",
       "      <td>2001807290</td>\n",
       "      <td>1091117324206</td>\n",
       "      <td>711106</td>\n",
       "      <td>Forward charges</td>\n",
       "      <td>d</td>\n",
       "    </tr>\n",
       "    <tr>\n",
       "      <th>10</th>\n",
       "      <td>2001807814</td>\n",
       "      <td>1091117326612</td>\n",
       "      <td>284001</td>\n",
       "      <td>Forward charges</td>\n",
       "      <td>b</td>\n",
       "    </tr>\n",
       "  </tbody>\n",
       "</table>\n",
       "</div>"
      ],
      "text/plain": [
       "      Order ID       AWB Code  Customer Pincode Type of Shipment  \\\n",
       "0   2001806232  1091117222124            507101  Forward charges   \n",
       "1   2001806273  1091117222194            486886  Forward charges   \n",
       "2   2001806408  1091117222931            532484  Forward charges   \n",
       "3   2001806458  1091117223244            143001  Forward charges   \n",
       "4   2001807012  1091117229345            515591  Forward charges   \n",
       "5   2001806686  1091117229555            326502  Forward charges   \n",
       "6   2001806885  1091117229776            208019  Forward charges   \n",
       "7   2001807058  1091117323112            140301  Forward charges   \n",
       "8   2001807186  1091117323812            396001  Forward charges   \n",
       "9   2001807290  1091117324206            711106  Forward charges   \n",
       "10  2001807814  1091117326612            284001  Forward charges   \n",
       "\n",
       "   Delivery Zone as per X  \n",
       "0                       d  \n",
       "1                       d  \n",
       "2                       d  \n",
       "3                       b  \n",
       "4                       d  \n",
       "5                       d  \n",
       "6                       b  \n",
       "7                       b  \n",
       "8                       d  \n",
       "9                       d  \n",
       "10                      b  "
      ]
     },
     "execution_count": 69,
     "metadata": {},
     "output_type": "execute_result"
    }
   ],
   "source": [
    "dfnew.loc[:10]"
   ]
  },
  {
   "cell_type": "code",
   "execution_count": 70,
   "metadata": {},
   "outputs": [],
   "source": [
    "# Add Weight slab as per X (KG) and Total weight as per X (KG) in dfnew \n",
    "weight = []\n",
    "slab = []\n",
    "for i in dfnew.index:\n",
    "    weight.append(df.loc[dfnew['Order ID'].loc[i]][0])\n",
    "    slab.append(df.loc[dfnew['Order ID'].loc[i]][1])\n"
   ]
  },
  {
   "cell_type": "code",
   "execution_count": 71,
   "metadata": {},
   "outputs": [],
   "source": [
    "dfnew['Total weight as per X (KG)']= pd.Series(weight , dtype = 'float')\n",
    "dfnew['Weight slab as per X (KG)'] = pd.Series(slab , dtype = 'float')"
   ]
  },
  {
   "cell_type": "code",
   "execution_count": 72,
   "metadata": {
    "scrolled": false
   },
   "outputs": [
    {
     "name": "stdout",
     "output_type": "stream",
     "text": [
      "<class 'pandas.core.frame.DataFrame'>\n",
      "RangeIndex: 124 entries, 0 to 123\n",
      "Data columns (total 7 columns):\n",
      " #   Column                      Non-Null Count  Dtype  \n",
      "---  ------                      --------------  -----  \n",
      " 0   Order ID                    124 non-null    int64  \n",
      " 1   AWB Code                    124 non-null    int64  \n",
      " 2   Customer Pincode            124 non-null    int64  \n",
      " 3   Type of Shipment            124 non-null    object \n",
      " 4   Delivery Zone as per X      124 non-null    object \n",
      " 5   Total weight as per X (KG)  124 non-null    float64\n",
      " 6   Weight slab as per X (KG)   124 non-null    float64\n",
      "dtypes: float64(2), int64(3), object(2)\n",
      "memory usage: 6.9+ KB\n"
     ]
    }
   ],
   "source": [
    "dfnew.info()"
   ]
  },
  {
   "cell_type": "code",
   "execution_count": 73,
   "metadata": {
    "scrolled": false
   },
   "outputs": [
    {
     "data": {
      "text/html": [
       "<div>\n",
       "<style scoped>\n",
       "    .dataframe tbody tr th:only-of-type {\n",
       "        vertical-align: middle;\n",
       "    }\n",
       "\n",
       "    .dataframe tbody tr th {\n",
       "        vertical-align: top;\n",
       "    }\n",
       "\n",
       "    .dataframe thead th {\n",
       "        text-align: right;\n",
       "    }\n",
       "</style>\n",
       "<table border=\"1\" class=\"dataframe\">\n",
       "  <thead>\n",
       "    <tr style=\"text-align: right;\">\n",
       "      <th></th>\n",
       "      <th>Order ID</th>\n",
       "      <th>AWB Code</th>\n",
       "      <th>Customer Pincode</th>\n",
       "      <th>Type of Shipment</th>\n",
       "      <th>Delivery Zone as per X</th>\n",
       "      <th>Total weight as per X (KG)</th>\n",
       "      <th>Weight slab as per X (KG)</th>\n",
       "    </tr>\n",
       "  </thead>\n",
       "  <tbody>\n",
       "    <tr>\n",
       "      <th>0</th>\n",
       "      <td>2001806232</td>\n",
       "      <td>1091117222124</td>\n",
       "      <td>507101</td>\n",
       "      <td>Forward charges</td>\n",
       "      <td>d</td>\n",
       "      <td>1.302</td>\n",
       "      <td>1.5</td>\n",
       "    </tr>\n",
       "    <tr>\n",
       "      <th>1</th>\n",
       "      <td>2001806273</td>\n",
       "      <td>1091117222194</td>\n",
       "      <td>486886</td>\n",
       "      <td>Forward charges</td>\n",
       "      <td>d</td>\n",
       "      <td>0.615</td>\n",
       "      <td>1.0</td>\n",
       "    </tr>\n",
       "    <tr>\n",
       "      <th>2</th>\n",
       "      <td>2001806408</td>\n",
       "      <td>1091117222931</td>\n",
       "      <td>532484</td>\n",
       "      <td>Forward charges</td>\n",
       "      <td>d</td>\n",
       "      <td>2.265</td>\n",
       "      <td>2.5</td>\n",
       "    </tr>\n",
       "    <tr>\n",
       "      <th>3</th>\n",
       "      <td>2001806458</td>\n",
       "      <td>1091117223244</td>\n",
       "      <td>143001</td>\n",
       "      <td>Forward charges</td>\n",
       "      <td>b</td>\n",
       "      <td>0.700</td>\n",
       "      <td>1.0</td>\n",
       "    </tr>\n",
       "    <tr>\n",
       "      <th>4</th>\n",
       "      <td>2001807012</td>\n",
       "      <td>1091117229345</td>\n",
       "      <td>515591</td>\n",
       "      <td>Forward charges</td>\n",
       "      <td>d</td>\n",
       "      <td>0.240</td>\n",
       "      <td>0.5</td>\n",
       "    </tr>\n",
       "    <tr>\n",
       "      <th>5</th>\n",
       "      <td>2001806686</td>\n",
       "      <td>1091117229555</td>\n",
       "      <td>326502</td>\n",
       "      <td>Forward charges</td>\n",
       "      <td>d</td>\n",
       "      <td>0.240</td>\n",
       "      <td>0.5</td>\n",
       "    </tr>\n",
       "    <tr>\n",
       "      <th>6</th>\n",
       "      <td>2001806885</td>\n",
       "      <td>1091117229776</td>\n",
       "      <td>208019</td>\n",
       "      <td>Forward charges</td>\n",
       "      <td>b</td>\n",
       "      <td>0.840</td>\n",
       "      <td>1.0</td>\n",
       "    </tr>\n",
       "    <tr>\n",
       "      <th>7</th>\n",
       "      <td>2001807058</td>\n",
       "      <td>1091117323112</td>\n",
       "      <td>140301</td>\n",
       "      <td>Forward charges</td>\n",
       "      <td>b</td>\n",
       "      <td>1.168</td>\n",
       "      <td>1.5</td>\n",
       "    </tr>\n",
       "    <tr>\n",
       "      <th>8</th>\n",
       "      <td>2001807186</td>\n",
       "      <td>1091117323812</td>\n",
       "      <td>396001</td>\n",
       "      <td>Forward charges</td>\n",
       "      <td>d</td>\n",
       "      <td>0.500</td>\n",
       "      <td>0.5</td>\n",
       "    </tr>\n",
       "    <tr>\n",
       "      <th>9</th>\n",
       "      <td>2001807290</td>\n",
       "      <td>1091117324206</td>\n",
       "      <td>711106</td>\n",
       "      <td>Forward charges</td>\n",
       "      <td>d</td>\n",
       "      <td>0.500</td>\n",
       "      <td>0.5</td>\n",
       "    </tr>\n",
       "    <tr>\n",
       "      <th>10</th>\n",
       "      <td>2001807814</td>\n",
       "      <td>1091117326612</td>\n",
       "      <td>284001</td>\n",
       "      <td>Forward charges</td>\n",
       "      <td>b</td>\n",
       "      <td>0.607</td>\n",
       "      <td>1.0</td>\n",
       "    </tr>\n",
       "  </tbody>\n",
       "</table>\n",
       "</div>"
      ],
      "text/plain": [
       "      Order ID       AWB Code  Customer Pincode Type of Shipment  \\\n",
       "0   2001806232  1091117222124            507101  Forward charges   \n",
       "1   2001806273  1091117222194            486886  Forward charges   \n",
       "2   2001806408  1091117222931            532484  Forward charges   \n",
       "3   2001806458  1091117223244            143001  Forward charges   \n",
       "4   2001807012  1091117229345            515591  Forward charges   \n",
       "5   2001806686  1091117229555            326502  Forward charges   \n",
       "6   2001806885  1091117229776            208019  Forward charges   \n",
       "7   2001807058  1091117323112            140301  Forward charges   \n",
       "8   2001807186  1091117323812            396001  Forward charges   \n",
       "9   2001807290  1091117324206            711106  Forward charges   \n",
       "10  2001807814  1091117326612            284001  Forward charges   \n",
       "\n",
       "   Delivery Zone as per X  Total weight as per X (KG)  \\\n",
       "0                       d                       1.302   \n",
       "1                       d                       0.615   \n",
       "2                       d                       2.265   \n",
       "3                       b                       0.700   \n",
       "4                       d                       0.240   \n",
       "5                       d                       0.240   \n",
       "6                       b                       0.840   \n",
       "7                       b                       1.168   \n",
       "8                       d                       0.500   \n",
       "9                       d                       0.500   \n",
       "10                      b                       0.607   \n",
       "\n",
       "    Weight slab as per X (KG)  \n",
       "0                         1.5  \n",
       "1                         1.0  \n",
       "2                         2.5  \n",
       "3                         1.0  \n",
       "4                         0.5  \n",
       "5                         0.5  \n",
       "6                         1.0  \n",
       "7                         1.5  \n",
       "8                         0.5  \n",
       "9                         0.5  \n",
       "10                        1.0  "
      ]
     },
     "execution_count": 73,
     "metadata": {},
     "output_type": "execute_result"
    }
   ],
   "source": [
    "dfnew.loc[:10]"
   ]
  },
  {
   "cell_type": "code",
   "execution_count": 74,
   "metadata": {
    "scrolled": true
   },
   "outputs": [
    {
     "data": {
      "text/html": [
       "<div>\n",
       "<style scoped>\n",
       "    .dataframe tbody tr th:only-of-type {\n",
       "        vertical-align: middle;\n",
       "    }\n",
       "\n",
       "    .dataframe tbody tr th {\n",
       "        vertical-align: top;\n",
       "    }\n",
       "\n",
       "    .dataframe thead th {\n",
       "        text-align: right;\n",
       "    }\n",
       "</style>\n",
       "<table border=\"1\" class=\"dataframe\">\n",
       "  <thead>\n",
       "    <tr style=\"text-align: right;\">\n",
       "      <th></th>\n",
       "      <th>Order ID</th>\n",
       "      <th>AWB Code</th>\n",
       "      <th>Customer Pincode</th>\n",
       "      <th>Type of Shipment</th>\n",
       "      <th>Delivery Zone as per X</th>\n",
       "      <th>Total weight as per X (KG)</th>\n",
       "      <th>Weight slab as per X (KG)</th>\n",
       "    </tr>\n",
       "  </thead>\n",
       "  <tbody>\n",
       "    <tr>\n",
       "      <th>33</th>\n",
       "      <td>2001806210</td>\n",
       "      <td>1091117221940</td>\n",
       "      <td>140604</td>\n",
       "      <td>Forward charges</td>\n",
       "      <td>b</td>\n",
       "      <td>0.22</td>\n",
       "      <td>0.5</td>\n",
       "    </tr>\n",
       "  </tbody>\n",
       "</table>\n",
       "</div>"
      ],
      "text/plain": [
       "      Order ID       AWB Code  Customer Pincode Type of Shipment  \\\n",
       "33  2001806210  1091117221940            140604  Forward charges   \n",
       "\n",
       "   Delivery Zone as per X  Total weight as per X (KG)  \\\n",
       "33                      b                        0.22   \n",
       "\n",
       "    Weight slab as per X (KG)  \n",
       "33                        0.5  "
      ]
     },
     "execution_count": 74,
     "metadata": {},
     "output_type": "execute_result"
    }
   ],
   "source": [
    "dfnew[dfnew['Order ID']==2001806210]"
   ]
  },
  {
   "cell_type": "code",
   "execution_count": 75,
   "metadata": {
    "scrolled": true
   },
   "outputs": [
    {
     "data": {
      "text/html": [
       "<div>\n",
       "<style scoped>\n",
       "    .dataframe tbody tr th:only-of-type {\n",
       "        vertical-align: middle;\n",
       "    }\n",
       "\n",
       "    .dataframe tbody tr th {\n",
       "        vertical-align: top;\n",
       "    }\n",
       "\n",
       "    .dataframe thead th {\n",
       "        text-align: right;\n",
       "    }\n",
       "</style>\n",
       "<table border=\"1\" class=\"dataframe\">\n",
       "  <thead>\n",
       "    <tr style=\"text-align: right;\">\n",
       "      <th></th>\n",
       "      <th>Order ID</th>\n",
       "      <th>AWB Code</th>\n",
       "      <th>Customer Pincode</th>\n",
       "      <th>Type of Shipment</th>\n",
       "      <th>Delivery Zone as per X</th>\n",
       "      <th>Total weight as per X (KG)</th>\n",
       "      <th>Weight slab as per X (KG)</th>\n",
       "    </tr>\n",
       "  </thead>\n",
       "  <tbody>\n",
       "    <tr>\n",
       "      <th>0</th>\n",
       "      <td>2001806232</td>\n",
       "      <td>1091117222124</td>\n",
       "      <td>507101</td>\n",
       "      <td>Forward charges</td>\n",
       "      <td>d</td>\n",
       "      <td>1.302</td>\n",
       "      <td>1.5</td>\n",
       "    </tr>\n",
       "  </tbody>\n",
       "</table>\n",
       "</div>"
      ],
      "text/plain": [
       "     Order ID       AWB Code  Customer Pincode Type of Shipment  \\\n",
       "0  2001806232  1091117222124            507101  Forward charges   \n",
       "\n",
       "  Delivery Zone as per X  Total weight as per X (KG)  \\\n",
       "0                      d                       1.302   \n",
       "\n",
       "   Weight slab as per X (KG)  \n",
       "0                        1.5  "
      ]
     },
     "execution_count": 75,
     "metadata": {},
     "output_type": "execute_result"
    }
   ],
   "source": [
    "dfnew[dfnew['Order ID']==2001806232]"
   ]
  },
  {
   "cell_type": "code",
   "execution_count": 76,
   "metadata": {
    "scrolled": false
   },
   "outputs": [
    {
     "data": {
      "text/plain": [
       "'Forward charges'"
      ]
     },
     "execution_count": 76,
     "metadata": {},
     "output_type": "execute_result"
    }
   ],
   "source": [
    "dfnew['Type of Shipment'].loc[33]"
   ]
  },
  {
   "cell_type": "code",
   "execution_count": 77,
   "metadata": {},
   "outputs": [
    {
     "data": {
      "text/plain": [
       "0.5"
      ]
     },
     "execution_count": 77,
     "metadata": {},
     "output_type": "execute_result"
    }
   ],
   "source": [
    "dfnew['Weight slab as per X (KG)'].min()"
   ]
  },
  {
   "cell_type": "code",
   "execution_count": 78,
   "metadata": {
    "scrolled": true
   },
   "outputs": [
    {
     "data": {
      "text/plain": [
       "'b'"
      ]
     },
     "execution_count": 78,
     "metadata": {},
     "output_type": "execute_result"
    }
   ],
   "source": [
    "dfnew['Delivery Zone as per X'].loc[33]"
   ]
  },
  {
   "cell_type": "code",
   "execution_count": 79,
   "metadata": {},
   "outputs": [
    {
     "data": {
      "text/plain": [
       "33"
      ]
     },
     "execution_count": 79,
     "metadata": {},
     "output_type": "execute_result"
    }
   ],
   "source": [
    "amt = df5['fwd_b_fixed'][0]\n",
    "amt"
   ]
  },
  {
   "cell_type": "code",
   "execution_count": 80,
   "metadata": {},
   "outputs": [
    {
     "data": {
      "text/plain": [
       "0"
      ]
     },
     "execution_count": 80,
     "metadata": {},
     "output_type": "execute_result"
    }
   ],
   "source": [
    "slab_left = dfnew['Weight slab as per X (KG)'].loc[33] - 0.5\n",
    "slab_count = int(slab_left/0.5)\n",
    "slab_count"
   ]
  },
  {
   "cell_type": "code",
   "execution_count": 81,
   "metadata": {
    "scrolled": true
   },
   "outputs": [
    {
     "data": {
      "text/plain": [
       "2"
      ]
     },
     "execution_count": 81,
     "metadata": {},
     "output_type": "execute_result"
    }
   ],
   "source": [
    "slab_left = dfnew['Weight slab as per X (KG)'].loc[0] - 0.5\n",
    "slab_count = int(slab_left/0.5)\n",
    "slab_count"
   ]
  },
  {
   "cell_type": "code",
   "execution_count": 82,
   "metadata": {},
   "outputs": [
    {
     "data": {
      "text/plain": [
       "'d'"
      ]
     },
     "execution_count": 82,
     "metadata": {},
     "output_type": "execute_result"
    }
   ],
   "source": [
    "dfnew['Delivery Zone as per X'].loc[0]"
   ]
  },
  {
   "cell_type": "code",
   "execution_count": 83,
   "metadata": {},
   "outputs": [
    {
     "data": {
      "text/plain": [
       "'Forward charges'"
      ]
     },
     "execution_count": 83,
     "metadata": {},
     "output_type": "execute_result"
    }
   ],
   "source": [
    "dfnew['Type of Shipment'].loc[0]"
   ]
  },
  {
   "cell_type": "code",
   "execution_count": 84,
   "metadata": {
    "scrolled": true
   },
   "outputs": [
    {
     "data": {
      "text/plain": [
       "45.4"
      ]
     },
     "execution_count": 84,
     "metadata": {},
     "output_type": "execute_result"
    }
   ],
   "source": [
    "amt = df5['fwd_d_fixed'][0]\n",
    "amt"
   ]
  },
  {
   "cell_type": "code",
   "execution_count": 85,
   "metadata": {},
   "outputs": [
    {
     "data": {
      "text/plain": [
       "2"
      ]
     },
     "execution_count": 85,
     "metadata": {},
     "output_type": "execute_result"
    }
   ],
   "source": [
    "slab_count"
   ]
  },
  {
   "cell_type": "code",
   "execution_count": 86,
   "metadata": {},
   "outputs": [
    {
     "data": {
      "text/plain": [
       "44.8"
      ]
     },
     "execution_count": 86,
     "metadata": {},
     "output_type": "execute_result"
    }
   ],
   "source": [
    "df5['fwd_d_additional'][0]"
   ]
  },
  {
   "cell_type": "code",
   "execution_count": 87,
   "metadata": {},
   "outputs": [
    {
     "data": {
      "text/plain": [
       "135.0"
      ]
     },
     "execution_count": 87,
     "metadata": {},
     "output_type": "execute_result"
    }
   ],
   "source": [
    "amt = 45.4\n",
    "amt += slab_count * df5['fwd_d_additional'][0]\n",
    "amt"
   ]
  },
  {
   "cell_type": "code",
   "execution_count": 88,
   "metadata": {
    "scrolled": true
   },
   "outputs": [
    {
     "data": {
      "text/plain": [
       "RangeIndex(start=0, stop=124, step=1)"
      ]
     },
     "execution_count": 88,
     "metadata": {},
     "output_type": "execute_result"
    }
   ],
   "source": [
    "dfnew.index"
   ]
  },
  {
   "cell_type": "code",
   "execution_count": 89,
   "metadata": {
    "scrolled": false
   },
   "outputs": [
    {
     "name": "stdout",
     "output_type": "stream",
     "text": [
      "d\n",
      "Forward charges\n",
      "2\n",
      "135.0\n"
     ]
    }
   ],
   "source": [
    "print(dfnew['Delivery Zone as per X'].loc[0])\n",
    "print(dfnew['Type of Shipment'].loc[0])\n",
    "amt = df5['fwd_d_fixed'][0]\n",
    "slab_left = dfnew['Weight slab as per X (KG)'].loc[0] - 0.5\n",
    "slab_count = int(slab_left/0.5)\n",
    "print(slab_count)\n",
    "amt += slab_count * df5['fwd_d_additional'][0]\n",
    "print(amt)"
   ]
  },
  {
   "cell_type": "markdown",
   "metadata": {},
   "source": [
    "## COMPUTE CHARGES"
   ]
  },
  {
   "cell_type": "code",
   "execution_count": 90,
   "metadata": {},
   "outputs": [],
   "source": [
    "# create Expected Charge as per X (Rs.)\n",
    "charges = []\n",
    "for i in dfnew.index:\n",
    "    if dfnew['Type of Shipment'].loc[i]== 'Forward charges':\n",
    "        if dfnew['Delivery Zone as per X'].loc[i] == 'a':\n",
    "            amt = df5['fwd_a_fixed'][0]\n",
    "            slab_left = dfnew['Weight slab as per X (KG)'].loc[i] - 0.5\n",
    "            if slab_left > 0:\n",
    "                slab_count = int(slab_left/0.5)\n",
    "                amt += slab_count * df5['fwd_a_additional'][0]\n",
    "                \n",
    "        elif dfnew['Delivery Zone as per X'].loc[i] == 'b':\n",
    "            amt = df5['fwd_b_fixed'][0]\n",
    "            slab_left = dfnew['Weight slab as per X (KG)'].loc[i] - 0.5\n",
    "            if slab_left > 0:\n",
    "                slab_count = int(slab_left/0.5)\n",
    "                amt += slab_count * df5['fwd_b_additional'][0]\n",
    "                \n",
    "        elif dfnew['Delivery Zone as per X'].loc[i] == 'c':\n",
    "            amt = df5['fwd_c_fixed'][0]\n",
    "            slab_left = dfnew['Weight slab as per X (KG)'].loc[i] - 0.5\n",
    "            if slab_left > 0:\n",
    "                slab_count = int(slab_left/0.5)\n",
    "                amt += slab_count * df5['fwd_c_additional'][0]\n",
    "                \n",
    "        elif dfnew['Delivery Zone as per X'].loc[i] == 'd':\n",
    "            amt = df5['fwd_d_fixed'][0]\n",
    "            slab_left = dfnew['Weight slab as per X (KG)'].loc[i] - 0.5\n",
    "            if slab_left > 0:\n",
    "                slab_count = int(slab_left/0.5)\n",
    "                amt += slab_count * df5['fwd_d_additional'][0]\n",
    "                \n",
    "        else :\n",
    "            amt = df5['fwd_e_fixed'][0]\n",
    "            slab_left = dfnew['Weight slab as per X (KG)'].loc[i] - 0.5\n",
    "            if slab_left > 0:\n",
    "                slab_count = int(slab_left/0.5)\n",
    "                amt += slab_count * df5['fwd_e_additional'][0]\n",
    "                \n",
    "    else:\n",
    "        if dfnew['Delivery Zone as per X'].loc[i] == 'a':\n",
    "            amt = df5['fwd_a_fixed'][0] + df5['rto_a_fixed'][0]\n",
    "            slab_left = dfnew['Weight slab as per X (KG)'].loc[i] - 0.5\n",
    "            if slab_left > 0:\n",
    "                slab_count = int(slab_left/0.5)\n",
    "                amt += slab_count * (df5['fwd_a_additional'][0] + df5['rto_a_additional'][0])\n",
    "                                     \n",
    "        elif dfnew['Delivery Zone as per X'].loc[i] == 'b':\n",
    "            amt = df5['fwd_b_fixed'][0] + df5['rto_b_fixed'][0]\n",
    "            slab_left = dfnew['Weight slab as per X (KG)'].loc[i] - 0.5\n",
    "            if slab_left > 0:\n",
    "                slab_count = int(slab_left/0.5)\n",
    "                amt += slab_count * (df5['fwd_b_additional'][0] + df5['rto_b_additional'][0])\n",
    "                \n",
    "        elif dfnew['Delivery Zone as per X'].loc[i] == 'c':\n",
    "            amt = df5['fwd_c_fixed'][0] + df5['rto_c_fixed'][0]\n",
    "            slab_left = dfnew['Weight slab as per X (KG)'].loc[i] - 0.5\n",
    "            if slab_left > 0:\n",
    "                slab_count = int(slab_left/0.5)\n",
    "                amt += slab_count * (df5['fwd_c_additional'][0] + df5['rto_c_additional'][0])\n",
    "                \n",
    "        elif dfnew['Delivery Zone as per X'].loc[i] == 'd':\n",
    "            amt = df5['fwd_d_fixed'][0] + df5['rto_d_fixed'][0]\n",
    "            slab_left = dfnew['Weight slab as per X (KG)'].loc[i] - 0.5\n",
    "            if slab_left > 0:\n",
    "                slab_count = int(slab_left/0.5)\n",
    "                amt += slab_count * (df5['fwd_d_additional'][0] + df5['rto_d_additional'][0])\n",
    "                \n",
    "        else :\n",
    "            amt = df5['fwd_e_fixed'][0] + df5['rto_e_fixed'][0]\n",
    "            slab_left = dfnew['Weight slab as per X (KG)'].loc[i] - 0.5\n",
    "            if slab_left > 0:\n",
    "                slab_count = int(slab_left/0.5)\n",
    "                amt += slab_count * (df5['fwd_e_additional'][0] + df5['rto_e_additional'][0]) \n",
    "                \n",
    "    charges.append(round(amt,2))\n",
    "                \n",
    "    \n",
    "                \n",
    "                \n",
    "        "
   ]
  },
  {
   "cell_type": "code",
   "execution_count": 91,
   "metadata": {
    "scrolled": true
   },
   "outputs": [
    {
     "data": {
      "text/plain": [
       "124"
      ]
     },
     "execution_count": 91,
     "metadata": {},
     "output_type": "execute_result"
    }
   ],
   "source": [
    "len(charges)"
   ]
  },
  {
   "cell_type": "code",
   "execution_count": 92,
   "metadata": {
    "scrolled": false
   },
   "outputs": [
    {
     "name": "stdout",
     "output_type": "stream",
     "text": [
      "[135.0, 90.2, 224.6, 61.3, 45.4, 45.4, 61.3, 89.6, 45.4, 45.4, 61.3, 90.2, 89.6, 90.2, 45.4, 135.0, 33, 90.2, 107.3, 61.3, 90.2, 89.6, 176.3, 110.1, 176.3, 176.3, 218.3, 265.9, 166.7, 176.3, 355.5, 265.9, 176.3, 33, 45.4, 45.4, 33, 45.4, 45.4, 45.4, 45.4, 33, 90.2, 33, 61.3, 45.4, 90.2, 45.4, 45.4, 61.3, 33, 45.4, 135.0, 45.4, 224.6, 89.6, 117.9, 179.8, 314.2, 117.9, 61.3, 33, 61.3, 61.3, 61.3, 61.3, 61.3, 61.3, 61.3, 53.5, 174.5, 61.3, 61.3, 53.5, 33, 61.3, 33, 146.2, 33, 33, 33, 61.3, 33, 33, 61.3, 89.6, 33, 112.1, 56.6, 223.1, 33, 61.3, 33, 33, 33, 33, 33, 33, 61.3, 33, 61.3, 33, 56.6, 33, 33, 61.3, 33, 33, 33, 33, 33, 33, 33, 61.3, 61.3, 33, 33, 61.3, 33, 33, 110.1, 61.3, 112.1, 61.3]\n"
     ]
    }
   ],
   "source": [
    "print(charges)"
   ]
  },
  {
   "cell_type": "markdown",
   "metadata": {},
   "source": [
    "## Output Data 1\n",
    "Create a resultant CSV/Excel file with the following columns:\n",
    "#### ● Order ID\n",
    "#### ● AWB Number\n",
    "#### ● Total weight as per X (KG)\n",
    "#### ● Weight slab as per X (KG)\n",
    "#### ● Total weight as per Courier Company (KG)\n",
    "#### ● Weight slab charged by Courier Company (KG)\n",
    "#### ● Delivery Zone as per X\n",
    "#### ● Delivery Zone charged by Courier Company\n",
    "#### ● Expected Charge as per X (Rs.)\n",
    "#### ● Charges Billed by Courier Company (Rs.)\n",
    "#### ● Difference Between Expected Charges and Billed Charges (Rs.)"
   ]
  },
  {
   "cell_type": "code",
   "execution_count": 93,
   "metadata": {},
   "outputs": [],
   "source": [
    "# add Expected Charge as per X (Rs.) in dfnew\n",
    "\n",
    "dfnew['Expected Charge as per X (Rs.)'] = pd.Series(charges , dtype = 'float')"
   ]
  },
  {
   "cell_type": "code",
   "execution_count": 94,
   "metadata": {},
   "outputs": [],
   "source": [
    "# add Charges Billed by Courier Company (Rs.) column \n",
    "dfnew['Charges Billed by Courier Company (Rs.)'] = df4['Billing Amount (Rs.)']\n",
    "\n",
    "# change Delivery Zone as per X column Values to upper Case values\n",
    "dfnew['Delivery Zone as per X'] = dfnew['Delivery Zone as per X'].str.upper()\n",
    "\n",
    "# add Difference Between Expected Charges and Billed Charges (Rs.) column \n",
    "dfnew['Difference Between Expected Charges and Billed Charges (Rs.)'] =dfnew['Expected Charge as per X (Rs.)']-dfnew['Charges Billed by Courier Company (Rs.)'] "
   ]
  },
  {
   "cell_type": "code",
   "execution_count": 95,
   "metadata": {
    "scrolled": true
   },
   "outputs": [
    {
     "name": "stdout",
     "output_type": "stream",
     "text": [
      "<class 'pandas.core.frame.DataFrame'>\n",
      "RangeIndex: 124 entries, 0 to 123\n",
      "Data columns (total 10 columns):\n",
      " #   Column                                                        Non-Null Count  Dtype  \n",
      "---  ------                                                        --------------  -----  \n",
      " 0   Order ID                                                      124 non-null    int64  \n",
      " 1   AWB Code                                                      124 non-null    int64  \n",
      " 2   Customer Pincode                                              124 non-null    int64  \n",
      " 3   Type of Shipment                                              124 non-null    object \n",
      " 4   Delivery Zone as per X                                        124 non-null    object \n",
      " 5   Total weight as per X (KG)                                    124 non-null    float64\n",
      " 6   Weight slab as per X (KG)                                     124 non-null    float64\n",
      " 7   Expected Charge as per X (Rs.)                                124 non-null    float64\n",
      " 8   Charges Billed by Courier Company (Rs.)                       124 non-null    float64\n",
      " 9   Difference Between Expected Charges and Billed Charges (Rs.)  124 non-null    float64\n",
      "dtypes: float64(5), int64(3), object(2)\n",
      "memory usage: 9.8+ KB\n"
     ]
    }
   ],
   "source": [
    "dfnew.info()"
   ]
  },
  {
   "cell_type": "code",
   "execution_count": 96,
   "metadata": {},
   "outputs": [],
   "source": [
    "dfnew.drop(['Customer Pincode','Type of Shipment'],inplace = True,axis = 1)"
   ]
  },
  {
   "cell_type": "code",
   "execution_count": 97,
   "metadata": {
    "scrolled": true
   },
   "outputs": [
    {
     "name": "stdout",
     "output_type": "stream",
     "text": [
      "<class 'pandas.core.frame.DataFrame'>\n",
      "RangeIndex: 124 entries, 0 to 123\n",
      "Data columns (total 8 columns):\n",
      " #   Column                                                        Non-Null Count  Dtype  \n",
      "---  ------                                                        --------------  -----  \n",
      " 0   Order ID                                                      124 non-null    int64  \n",
      " 1   AWB Code                                                      124 non-null    int64  \n",
      " 2   Delivery Zone as per X                                        124 non-null    object \n",
      " 3   Total weight as per X (KG)                                    124 non-null    float64\n",
      " 4   Weight slab as per X (KG)                                     124 non-null    float64\n",
      " 5   Expected Charge as per X (Rs.)                                124 non-null    float64\n",
      " 6   Charges Billed by Courier Company (Rs.)                       124 non-null    float64\n",
      " 7   Difference Between Expected Charges and Billed Charges (Rs.)  124 non-null    float64\n",
      "dtypes: float64(5), int64(2), object(1)\n",
      "memory usage: 7.9+ KB\n"
     ]
    }
   ],
   "source": [
    "dfnew.info()"
   ]
  },
  {
   "cell_type": "code",
   "execution_count": 98,
   "metadata": {},
   "outputs": [],
   "source": [
    "# Change the positions of column \n",
    "third_column = dfnew.pop('Total weight as per X (KG)')\n",
    "dfnew.insert(2,'Total weight as per X (KG)',third_column)"
   ]
  },
  {
   "cell_type": "code",
   "execution_count": 99,
   "metadata": {},
   "outputs": [
    {
     "name": "stdout",
     "output_type": "stream",
     "text": [
      "<class 'pandas.core.frame.DataFrame'>\n",
      "RangeIndex: 124 entries, 0 to 123\n",
      "Data columns (total 8 columns):\n",
      " #   Column                                                        Non-Null Count  Dtype  \n",
      "---  ------                                                        --------------  -----  \n",
      " 0   Order ID                                                      124 non-null    int64  \n",
      " 1   AWB Code                                                      124 non-null    int64  \n",
      " 2   Total weight as per X (KG)                                    124 non-null    float64\n",
      " 3   Delivery Zone as per X                                        124 non-null    object \n",
      " 4   Weight slab as per X (KG)                                     124 non-null    float64\n",
      " 5   Expected Charge as per X (Rs.)                                124 non-null    float64\n",
      " 6   Charges Billed by Courier Company (Rs.)                       124 non-null    float64\n",
      " 7   Difference Between Expected Charges and Billed Charges (Rs.)  124 non-null    float64\n",
      "dtypes: float64(5), int64(2), object(1)\n",
      "memory usage: 7.9+ KB\n"
     ]
    }
   ],
   "source": [
    "dfnew.info()"
   ]
  },
  {
   "cell_type": "code",
   "execution_count": 100,
   "metadata": {},
   "outputs": [],
   "source": [
    "forth_column = dfnew.pop('Weight slab as per X (KG)')\n",
    "dfnew.insert(3,'Weight slab as per X (KG)',forth_column)"
   ]
  },
  {
   "cell_type": "code",
   "execution_count": 101,
   "metadata": {},
   "outputs": [
    {
     "name": "stdout",
     "output_type": "stream",
     "text": [
      "<class 'pandas.core.frame.DataFrame'>\n",
      "RangeIndex: 124 entries, 0 to 123\n",
      "Data columns (total 8 columns):\n",
      " #   Column                                                        Non-Null Count  Dtype  \n",
      "---  ------                                                        --------------  -----  \n",
      " 0   Order ID                                                      124 non-null    int64  \n",
      " 1   AWB Code                                                      124 non-null    int64  \n",
      " 2   Total weight as per X (KG)                                    124 non-null    float64\n",
      " 3   Weight slab as per X (KG)                                     124 non-null    float64\n",
      " 4   Delivery Zone as per X                                        124 non-null    object \n",
      " 5   Expected Charge as per X (Rs.)                                124 non-null    float64\n",
      " 6   Charges Billed by Courier Company (Rs.)                       124 non-null    float64\n",
      " 7   Difference Between Expected Charges and Billed Charges (Rs.)  124 non-null    float64\n",
      "dtypes: float64(5), int64(2), object(1)\n",
      "memory usage: 7.9+ KB\n"
     ]
    }
   ],
   "source": [
    "dfnew.info()"
   ]
  },
  {
   "cell_type": "code",
   "execution_count": 102,
   "metadata": {},
   "outputs": [],
   "source": [
    "fifth_column = df4['Charged Weight']\n",
    "dfnew.insert(4,'Total weight as per Courier Company (KG)',fifth_column)"
   ]
  },
  {
   "cell_type": "code",
   "execution_count": 103,
   "metadata": {
    "scrolled": true
   },
   "outputs": [
    {
     "name": "stdout",
     "output_type": "stream",
     "text": [
      "<class 'pandas.core.frame.DataFrame'>\n",
      "RangeIndex: 124 entries, 0 to 123\n",
      "Data columns (total 9 columns):\n",
      " #   Column                                                        Non-Null Count  Dtype  \n",
      "---  ------                                                        --------------  -----  \n",
      " 0   Order ID                                                      124 non-null    int64  \n",
      " 1   AWB Code                                                      124 non-null    int64  \n",
      " 2   Total weight as per X (KG)                                    124 non-null    float64\n",
      " 3   Weight slab as per X (KG)                                     124 non-null    float64\n",
      " 4   Total weight as per Courier Company (KG)                      124 non-null    float64\n",
      " 5   Delivery Zone as per X                                        124 non-null    object \n",
      " 6   Expected Charge as per X (Rs.)                                124 non-null    float64\n",
      " 7   Charges Billed by Courier Company (Rs.)                       124 non-null    float64\n",
      " 8   Difference Between Expected Charges and Billed Charges (Rs.)  124 non-null    float64\n",
      "dtypes: float64(6), int64(2), object(1)\n",
      "memory usage: 8.8+ KB\n"
     ]
    }
   ],
   "source": [
    "dfnew.info()"
   ]
  },
  {
   "cell_type": "code",
   "execution_count": 104,
   "metadata": {},
   "outputs": [],
   "source": [
    "sixth_column = df4['Weight slab (KG)']\n",
    "dfnew.insert(5, 'Weight slab charged by Courier Company (KG)',sixth_column)"
   ]
  },
  {
   "cell_type": "code",
   "execution_count": 105,
   "metadata": {},
   "outputs": [],
   "source": [
    "seventh_column = df4['Zone']\n",
    "dfnew.insert(7,'Delivery Zone charged by Courier Company',seventh_column)"
   ]
  },
  {
   "cell_type": "code",
   "execution_count": 106,
   "metadata": {
    "scrolled": true
   },
   "outputs": [
    {
     "name": "stdout",
     "output_type": "stream",
     "text": [
      "<class 'pandas.core.frame.DataFrame'>\n",
      "RangeIndex: 124 entries, 0 to 123\n",
      "Data columns (total 11 columns):\n",
      " #   Column                                                        Non-Null Count  Dtype  \n",
      "---  ------                                                        --------------  -----  \n",
      " 0   Order ID                                                      124 non-null    int64  \n",
      " 1   AWB Code                                                      124 non-null    int64  \n",
      " 2   Total weight as per X (KG)                                    124 non-null    float64\n",
      " 3   Weight slab as per X (KG)                                     124 non-null    float64\n",
      " 4   Total weight as per Courier Company (KG)                      124 non-null    float64\n",
      " 5   Weight slab charged by Courier Company (KG)                   124 non-null    float64\n",
      " 6   Delivery Zone as per X                                        124 non-null    object \n",
      " 7   Delivery Zone charged by Courier Company                      124 non-null    object \n",
      " 8   Expected Charge as per X (Rs.)                                124 non-null    float64\n",
      " 9   Charges Billed by Courier Company (Rs.)                       124 non-null    float64\n",
      " 10  Difference Between Expected Charges and Billed Charges (Rs.)  124 non-null    float64\n",
      "dtypes: float64(7), int64(2), object(2)\n",
      "memory usage: 10.8+ KB\n"
     ]
    }
   ],
   "source": [
    "dfnew.info()"
   ]
  },
  {
   "cell_type": "markdown",
   "metadata": {},
   "source": [
    "# OUTPUT 1"
   ]
  },
  {
   "cell_type": "code",
   "execution_count": 107,
   "metadata": {},
   "outputs": [],
   "source": [
    "output1 = dfnew"
   ]
  },
  {
   "cell_type": "code",
   "execution_count": 108,
   "metadata": {
    "scrolled": false
   },
   "outputs": [
    {
     "data": {
      "text/html": [
       "<div>\n",
       "<style scoped>\n",
       "    .dataframe tbody tr th:only-of-type {\n",
       "        vertical-align: middle;\n",
       "    }\n",
       "\n",
       "    .dataframe tbody tr th {\n",
       "        vertical-align: top;\n",
       "    }\n",
       "\n",
       "    .dataframe thead th {\n",
       "        text-align: right;\n",
       "    }\n",
       "</style>\n",
       "<table border=\"1\" class=\"dataframe\">\n",
       "  <thead>\n",
       "    <tr style=\"text-align: right;\">\n",
       "      <th></th>\n",
       "      <th>Order ID</th>\n",
       "      <th>AWB Code</th>\n",
       "      <th>Total weight as per X (KG)</th>\n",
       "      <th>Weight slab as per X (KG)</th>\n",
       "      <th>Total weight as per Courier Company (KG)</th>\n",
       "      <th>Weight slab charged by Courier Company (KG)</th>\n",
       "      <th>Delivery Zone as per X</th>\n",
       "      <th>Delivery Zone charged by Courier Company</th>\n",
       "      <th>Expected Charge as per X (Rs.)</th>\n",
       "      <th>Charges Billed by Courier Company (Rs.)</th>\n",
       "      <th>Difference Between Expected Charges and Billed Charges (Rs.)</th>\n",
       "    </tr>\n",
       "  </thead>\n",
       "  <tbody>\n",
       "    <tr>\n",
       "      <th>0</th>\n",
       "      <td>2001806232</td>\n",
       "      <td>1091117222124</td>\n",
       "      <td>1.302</td>\n",
       "      <td>1.5</td>\n",
       "      <td>1.30</td>\n",
       "      <td>1.5</td>\n",
       "      <td>D</td>\n",
       "      <td>D</td>\n",
       "      <td>135.0</td>\n",
       "      <td>135.0</td>\n",
       "      <td>0.0</td>\n",
       "    </tr>\n",
       "    <tr>\n",
       "      <th>1</th>\n",
       "      <td>2001806273</td>\n",
       "      <td>1091117222194</td>\n",
       "      <td>0.615</td>\n",
       "      <td>1.0</td>\n",
       "      <td>1.00</td>\n",
       "      <td>1.0</td>\n",
       "      <td>D</td>\n",
       "      <td>D</td>\n",
       "      <td>90.2</td>\n",
       "      <td>90.2</td>\n",
       "      <td>0.0</td>\n",
       "    </tr>\n",
       "    <tr>\n",
       "      <th>2</th>\n",
       "      <td>2001806408</td>\n",
       "      <td>1091117222931</td>\n",
       "      <td>2.265</td>\n",
       "      <td>2.5</td>\n",
       "      <td>2.50</td>\n",
       "      <td>2.5</td>\n",
       "      <td>D</td>\n",
       "      <td>D</td>\n",
       "      <td>224.6</td>\n",
       "      <td>224.6</td>\n",
       "      <td>0.0</td>\n",
       "    </tr>\n",
       "    <tr>\n",
       "      <th>3</th>\n",
       "      <td>2001806458</td>\n",
       "      <td>1091117223244</td>\n",
       "      <td>0.700</td>\n",
       "      <td>1.0</td>\n",
       "      <td>1.00</td>\n",
       "      <td>1.0</td>\n",
       "      <td>B</td>\n",
       "      <td>B</td>\n",
       "      <td>61.3</td>\n",
       "      <td>61.3</td>\n",
       "      <td>0.0</td>\n",
       "    </tr>\n",
       "    <tr>\n",
       "      <th>4</th>\n",
       "      <td>2001807012</td>\n",
       "      <td>1091117229345</td>\n",
       "      <td>0.240</td>\n",
       "      <td>0.5</td>\n",
       "      <td>0.15</td>\n",
       "      <td>0.5</td>\n",
       "      <td>D</td>\n",
       "      <td>D</td>\n",
       "      <td>45.4</td>\n",
       "      <td>45.4</td>\n",
       "      <td>0.0</td>\n",
       "    </tr>\n",
       "  </tbody>\n",
       "</table>\n",
       "</div>"
      ],
      "text/plain": [
       "     Order ID       AWB Code  Total weight as per X (KG)  \\\n",
       "0  2001806232  1091117222124                       1.302   \n",
       "1  2001806273  1091117222194                       0.615   \n",
       "2  2001806408  1091117222931                       2.265   \n",
       "3  2001806458  1091117223244                       0.700   \n",
       "4  2001807012  1091117229345                       0.240   \n",
       "\n",
       "   Weight slab as per X (KG)  Total weight as per Courier Company (KG)  \\\n",
       "0                        1.5                                      1.30   \n",
       "1                        1.0                                      1.00   \n",
       "2                        2.5                                      2.50   \n",
       "3                        1.0                                      1.00   \n",
       "4                        0.5                                      0.15   \n",
       "\n",
       "   Weight slab charged by Courier Company (KG) Delivery Zone as per X  \\\n",
       "0                                          1.5                      D   \n",
       "1                                          1.0                      D   \n",
       "2                                          2.5                      D   \n",
       "3                                          1.0                      B   \n",
       "4                                          0.5                      D   \n",
       "\n",
       "  Delivery Zone charged by Courier Company  Expected Charge as per X (Rs.)  \\\n",
       "0                                        D                           135.0   \n",
       "1                                        D                            90.2   \n",
       "2                                        D                           224.6   \n",
       "3                                        B                            61.3   \n",
       "4                                        D                            45.4   \n",
       "\n",
       "   Charges Billed by Courier Company (Rs.)  \\\n",
       "0                                    135.0   \n",
       "1                                     90.2   \n",
       "2                                    224.6   \n",
       "3                                     61.3   \n",
       "4                                     45.4   \n",
       "\n",
       "   Difference Between Expected Charges and Billed Charges (Rs.)  \n",
       "0                                                0.0             \n",
       "1                                                0.0             \n",
       "2                                                0.0             \n",
       "3                                                0.0             \n",
       "4                                                0.0             "
      ]
     },
     "execution_count": 108,
     "metadata": {},
     "output_type": "execute_result"
    }
   ],
   "source": [
    "output1.head()"
   ]
  },
  {
   "cell_type": "markdown",
   "metadata": {},
   "source": [
    "# OUTPUT 2"
   ]
  },
  {
   "cell_type": "code",
   "execution_count": 109,
   "metadata": {},
   "outputs": [],
   "source": [
    "output2 = pd.DataFrame()"
   ]
  },
  {
   "cell_type": "code",
   "execution_count": 110,
   "metadata": {},
   "outputs": [],
   "source": [
    "count_when_equal_charges = len(output1[output1['Difference Between Expected Charges and Billed Charges (Rs.)']==0])"
   ]
  },
  {
   "cell_type": "code",
   "execution_count": 111,
   "metadata": {},
   "outputs": [],
   "source": [
    "amt_when_equal_charges = output1[output1['Difference Between Expected Charges and Billed Charges (Rs.)']==0]['Difference Between Expected Charges and Billed Charges (Rs.)'].sum()"
   ]
  },
  {
   "cell_type": "code",
   "execution_count": 112,
   "metadata": {},
   "outputs": [
    {
     "data": {
      "text/plain": [
       "22"
      ]
     },
     "execution_count": 112,
     "metadata": {},
     "output_type": "execute_result"
    }
   ],
   "source": [
    "count_when_equal_charges"
   ]
  },
  {
   "cell_type": "code",
   "execution_count": 113,
   "metadata": {},
   "outputs": [
    {
     "data": {
      "text/plain": [
       "0.0"
      ]
     },
     "execution_count": 113,
     "metadata": {},
     "output_type": "execute_result"
    }
   ],
   "source": [
    "amt_when_equal_charges"
   ]
  },
  {
   "cell_type": "code",
   "execution_count": 114,
   "metadata": {},
   "outputs": [],
   "source": [
    "count_when_over_charges = len(output1[output1['Difference Between Expected Charges and Billed Charges (Rs.)']<0])"
   ]
  },
  {
   "cell_type": "code",
   "execution_count": 115,
   "metadata": {},
   "outputs": [],
   "source": [
    "amt_when_over_charges = output1[output1['Difference Between Expected Charges and Billed Charges (Rs.)']<0]['Difference Between Expected Charges and Billed Charges (Rs.)'].sum()"
   ]
  },
  {
   "cell_type": "code",
   "execution_count": 116,
   "metadata": {},
   "outputs": [
    {
     "data": {
      "text/plain": [
       "79"
      ]
     },
     "execution_count": 116,
     "metadata": {},
     "output_type": "execute_result"
    }
   ],
   "source": [
    "count_when_over_charges"
   ]
  },
  {
   "cell_type": "code",
   "execution_count": 117,
   "metadata": {},
   "outputs": [
    {
     "data": {
      "text/plain": [
       "-4426.599999999999"
      ]
     },
     "execution_count": 117,
     "metadata": {},
     "output_type": "execute_result"
    }
   ],
   "source": [
    "amt_when_over_charges"
   ]
  },
  {
   "cell_type": "code",
   "execution_count": 118,
   "metadata": {
    "scrolled": true
   },
   "outputs": [],
   "source": [
    "count_when_under_charges = len(output1[output1['Difference Between Expected Charges and Billed Charges (Rs.)']>0])"
   ]
  },
  {
   "cell_type": "code",
   "execution_count": 119,
   "metadata": {},
   "outputs": [],
   "source": [
    "amt_when_under_charges = output1[output1['Difference Between Expected Charges and Billed Charges (Rs.)']>0]['Difference Between Expected Charges and Billed Charges (Rs.)'].sum()"
   ]
  },
  {
   "cell_type": "code",
   "execution_count": 120,
   "metadata": {},
   "outputs": [
    {
     "data": {
      "text/plain": [
       "23"
      ]
     },
     "execution_count": 120,
     "metadata": {},
     "output_type": "execute_result"
    }
   ],
   "source": [
    "count_when_under_charges"
   ]
  },
  {
   "cell_type": "code",
   "execution_count": 121,
   "metadata": {},
   "outputs": [
    {
     "data": {
      "text/plain": [
       "575.0999999999999"
      ]
     },
     "execution_count": 121,
     "metadata": {},
     "output_type": "execute_result"
    }
   ],
   "source": [
    "amt_when_under_charges"
   ]
  },
  {
   "cell_type": "code",
   "execution_count": 122,
   "metadata": {},
   "outputs": [],
   "source": [
    "Count = [count_when_equal_charges,count_when_over_charges,count_when_under_charges]"
   ]
  },
  {
   "cell_type": "code",
   "execution_count": 123,
   "metadata": {},
   "outputs": [
    {
     "data": {
      "text/plain": [
       "[22, 79, 23]"
      ]
     },
     "execution_count": 123,
     "metadata": {},
     "output_type": "execute_result"
    }
   ],
   "source": [
    "Count"
   ]
  },
  {
   "cell_type": "code",
   "execution_count": 124,
   "metadata": {},
   "outputs": [],
   "source": [
    "Amount = [amt_when_equal_charges,amt_when_over_charges,amt_when_under_charges]"
   ]
  },
  {
   "cell_type": "code",
   "execution_count": 125,
   "metadata": {},
   "outputs": [],
   "source": [
    "list = ['Total orders where X has been correctly charged','Total Orders where X has been overcharged','Total Orders where X has been undercharged']\n",
    "output2['index'] = pd.Series(list , dtype = 'object')\n",
    "output2['Count'] = pd.Series(Count , dtype = 'int')\n",
    "output2['Amount(Rs.)'] = pd.Series(Amount , dtype = 'float')"
   ]
  },
  {
   "cell_type": "code",
   "execution_count": 126,
   "metadata": {},
   "outputs": [],
   "source": [
    "output2['Amount(Rs.)'] = round(output2['Amount(Rs.)'],3)"
   ]
  },
  {
   "cell_type": "code",
   "execution_count": 127,
   "metadata": {},
   "outputs": [],
   "source": [
    "output2.set_index(\"index\" , inplace = True)"
   ]
  },
  {
   "cell_type": "code",
   "execution_count": 128,
   "metadata": {
    "scrolled": true
   },
   "outputs": [
    {
     "data": {
      "text/html": [
       "<div>\n",
       "<style scoped>\n",
       "    .dataframe tbody tr th:only-of-type {\n",
       "        vertical-align: middle;\n",
       "    }\n",
       "\n",
       "    .dataframe tbody tr th {\n",
       "        vertical-align: top;\n",
       "    }\n",
       "\n",
       "    .dataframe thead th {\n",
       "        text-align: right;\n",
       "    }\n",
       "</style>\n",
       "<table border=\"1\" class=\"dataframe\">\n",
       "  <thead>\n",
       "    <tr style=\"text-align: right;\">\n",
       "      <th></th>\n",
       "      <th>Count</th>\n",
       "      <th>Amount(Rs.)</th>\n",
       "    </tr>\n",
       "    <tr>\n",
       "      <th>index</th>\n",
       "      <th></th>\n",
       "      <th></th>\n",
       "    </tr>\n",
       "  </thead>\n",
       "  <tbody>\n",
       "    <tr>\n",
       "      <th>Total orders where X has been correctly charged</th>\n",
       "      <td>22</td>\n",
       "      <td>0.0</td>\n",
       "    </tr>\n",
       "    <tr>\n",
       "      <th>Total Orders where X has been overcharged</th>\n",
       "      <td>79</td>\n",
       "      <td>-4426.6</td>\n",
       "    </tr>\n",
       "    <tr>\n",
       "      <th>Total Orders where X has been undercharged</th>\n",
       "      <td>23</td>\n",
       "      <td>575.1</td>\n",
       "    </tr>\n",
       "  </tbody>\n",
       "</table>\n",
       "</div>"
      ],
      "text/plain": [
       "                                                 Count  Amount(Rs.)\n",
       "index                                                              \n",
       "Total orders where X has been correctly charged     22          0.0\n",
       "Total Orders where X has been overcharged           79      -4426.6\n",
       "Total Orders where X has been undercharged          23        575.1"
      ]
     },
     "execution_count": 128,
     "metadata": {},
     "output_type": "execute_result"
    }
   ],
   "source": [
    "output2"
   ]
  },
  {
   "cell_type": "markdown",
   "metadata": {},
   "source": [
    "# CONVERTING TO EXCEL FILE"
   ]
  },
  {
   "cell_type": "code",
   "execution_count": 132,
   "metadata": {},
   "outputs": [],
   "source": [
    "with pd.ExcelWriter('sheets.xlsx') as writer1:\n",
    "    output1.to_excel(writer1, sheet_name = 'Summary Table', index = False)\n",
    "    output2.to_excel(writer1, sheet_name = 'Order Level Calculation', index = True)"
   ]
  },
  {
   "cell_type": "code",
   "execution_count": null,
   "metadata": {},
   "outputs": [],
   "source": []
  },
  {
   "cell_type": "code",
   "execution_count": null,
   "metadata": {},
   "outputs": [],
   "source": []
  }
 ],
 "metadata": {
  "kernelspec": {
   "display_name": "Python 3",
   "language": "python",
   "name": "python3"
  },
  "language_info": {
   "codemirror_mode": {
    "name": "ipython",
    "version": 3
   },
   "file_extension": ".py",
   "mimetype": "text/x-python",
   "name": "python",
   "nbconvert_exporter": "python",
   "pygments_lexer": "ipython3",
   "version": "3.8.5"
  }
 },
 "nbformat": 4,
 "nbformat_minor": 4
}
